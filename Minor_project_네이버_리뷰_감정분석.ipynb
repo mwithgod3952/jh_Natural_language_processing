{
  "nbformat": 4,
  "nbformat_minor": 0,
  "metadata": {
    "colab": {
      "name": "Minor_project_네이버_리뷰_감정분석",
      "provenance": [],
      "collapsed_sections": [],
      "authorship_tag": "ABX9TyPIrxMRhVJjQTgiRJgvtenn",
      "include_colab_link": true
    },
    "kernelspec": {
      "name": "python3",
      "display_name": "Python 3"
    },
    "language_info": {
      "name": "python"
    },
    "accelerator": "GPU"
  },
  "cells": [
    {
      "cell_type": "markdown",
      "metadata": {
        "id": "view-in-github",
        "colab_type": "text"
      },
      "source": [
        "<a href=\"https://colab.research.google.com/github/mwithgod3952/jh_Natural_language_processing/blob/main/Minor_project_%EB%84%A4%EC%9D%B4%EB%B2%84_%EB%A6%AC%EB%B7%B0_%EA%B0%90%EC%A0%95%EB%B6%84%EC%84%9D.ipynb\" target=\"_parent\"><img src=\"https://colab.research.google.com/assets/colab-badge.svg\" alt=\"Open In Colab\"/></a>"
      ]
    },
    {
      "cell_type": "code",
      "metadata": {
        "id": "5LtMEeU6ZdeT"
      },
      "source": [
        "import pandas as pd\n",
        "import numpy as np\n",
        "\n",
        "%matplotlib inline\n",
        "import matplotlib.pyplot as plt\n",
        "\n",
        "import re\n",
        "import urllib.request\n",
        "\n",
        "# !pip install konlpy\n",
        "from konlpy.tag import Okt\n",
        "from tensorflow.keras.preprocessing.text import Tokenizer\n",
        "from tensorflow.keras.preprocessing.sequence import pad_sequences\n",
        "\n",
        "# LSTM\n",
        "from tensorflow.keras.layers import Embedding, Dense, LSTM\n",
        "from tensorflow.keras.models import Sequential\n",
        "from tensorflow.keras.models import load_model\n",
        "from tensorflow.keras.callbacks import EarlyStopping, ModelCheckpoint"
      ],
      "execution_count": 4,
      "outputs": []
    },
    {
      "cell_type": "markdown",
      "metadata": {
        "id": "d1IHowjkh3Ce"
      },
      "source": [
        "#### 1. 데이터 확인"
      ]
    },
    {
      "cell_type": "markdown",
      "metadata": {
        "id": "raon--VvaPoO"
      },
      "source": [
        "데이터 출처 : https://github.com/e9t/nsmc/"
      ]
    },
    {
      "cell_type": "code",
      "metadata": {
        "colab": {
          "base_uri": "https://localhost:8080/"
        },
        "id": "MLiX-WpgZtd_",
        "outputId": "851acaa3-bc84-418b-9892-d11873f92a83"
      },
      "source": [
        "urllib.request.urlretrieve(\"https://raw.githubusercontent.com/e9t/nsmc/master/ratings_train.txt\", filename=\"ratings_train.txt\")\n",
        "urllib.request.urlretrieve(\"https://raw.githubusercontent.com/e9t/nsmc/master/ratings_test.txt\", filename=\"ratings_test.txt\")"
      ],
      "execution_count": 5,
      "outputs": [
        {
          "output_type": "execute_result",
          "data": {
            "text/plain": [
              "('ratings_test.txt', <http.client.HTTPMessage at 0x7f637d160550>)"
            ]
          },
          "metadata": {
            "tags": []
          },
          "execution_count": 5
        }
      ]
    },
    {
      "cell_type": "code",
      "metadata": {
        "id": "vMoV7YkWaV_Y"
      },
      "source": [
        "train_data = pd.read_table('ratings_train.txt')\n",
        "test_data = pd.read_table('ratings_test.txt')"
      ],
      "execution_count": 6,
      "outputs": []
    },
    {
      "cell_type": "code",
      "metadata": {
        "colab": {
          "base_uri": "https://localhost:8080/",
          "height": 204
        },
        "id": "7Mm7ZX5pabXK",
        "outputId": "2a1dcd2a-46e2-4e9e-c6df-e76d19449729"
      },
      "source": [
        "train_data.head()"
      ],
      "execution_count": 7,
      "outputs": [
        {
          "output_type": "execute_result",
          "data": {
            "text/html": [
              "<div>\n",
              "<style scoped>\n",
              "    .dataframe tbody tr th:only-of-type {\n",
              "        vertical-align: middle;\n",
              "    }\n",
              "\n",
              "    .dataframe tbody tr th {\n",
              "        vertical-align: top;\n",
              "    }\n",
              "\n",
              "    .dataframe thead th {\n",
              "        text-align: right;\n",
              "    }\n",
              "</style>\n",
              "<table border=\"1\" class=\"dataframe\">\n",
              "  <thead>\n",
              "    <tr style=\"text-align: right;\">\n",
              "      <th></th>\n",
              "      <th>id</th>\n",
              "      <th>document</th>\n",
              "      <th>label</th>\n",
              "    </tr>\n",
              "  </thead>\n",
              "  <tbody>\n",
              "    <tr>\n",
              "      <th>0</th>\n",
              "      <td>9976970</td>\n",
              "      <td>아 더빙.. 진짜 짜증나네요 목소리</td>\n",
              "      <td>0</td>\n",
              "    </tr>\n",
              "    <tr>\n",
              "      <th>1</th>\n",
              "      <td>3819312</td>\n",
              "      <td>흠...포스터보고 초딩영화줄....오버연기조차 가볍지 않구나</td>\n",
              "      <td>1</td>\n",
              "    </tr>\n",
              "    <tr>\n",
              "      <th>2</th>\n",
              "      <td>10265843</td>\n",
              "      <td>너무재밓었다그래서보는것을추천한다</td>\n",
              "      <td>0</td>\n",
              "    </tr>\n",
              "    <tr>\n",
              "      <th>3</th>\n",
              "      <td>9045019</td>\n",
              "      <td>교도소 이야기구먼 ..솔직히 재미는 없다..평점 조정</td>\n",
              "      <td>0</td>\n",
              "    </tr>\n",
              "    <tr>\n",
              "      <th>4</th>\n",
              "      <td>6483659</td>\n",
              "      <td>사이몬페그의 익살스런 연기가 돋보였던 영화!스파이더맨에서 늙어보이기만 했던 커스틴 ...</td>\n",
              "      <td>1</td>\n",
              "    </tr>\n",
              "  </tbody>\n",
              "</table>\n",
              "</div>"
            ],
            "text/plain": [
              "         id                                           document  label\n",
              "0   9976970                                아 더빙.. 진짜 짜증나네요 목소리      0\n",
              "1   3819312                  흠...포스터보고 초딩영화줄....오버연기조차 가볍지 않구나      1\n",
              "2  10265843                                  너무재밓었다그래서보는것을추천한다      0\n",
              "3   9045019                      교도소 이야기구먼 ..솔직히 재미는 없다..평점 조정      0\n",
              "4   6483659  사이몬페그의 익살스런 연기가 돋보였던 영화!스파이더맨에서 늙어보이기만 했던 커스틴 ...      1"
            ]
          },
          "metadata": {
            "tags": []
          },
          "execution_count": 7
        }
      ]
    },
    {
      "cell_type": "code",
      "metadata": {
        "id": "irVgKszualz8",
        "colab": {
          "base_uri": "https://localhost:8080/",
          "height": 204
        },
        "outputId": "178c4bad-95d9-45b5-ec92-b9f20b2531ec"
      },
      "source": [
        "test_data.head()"
      ],
      "execution_count": 8,
      "outputs": [
        {
          "output_type": "execute_result",
          "data": {
            "text/html": [
              "<div>\n",
              "<style scoped>\n",
              "    .dataframe tbody tr th:only-of-type {\n",
              "        vertical-align: middle;\n",
              "    }\n",
              "\n",
              "    .dataframe tbody tr th {\n",
              "        vertical-align: top;\n",
              "    }\n",
              "\n",
              "    .dataframe thead th {\n",
              "        text-align: right;\n",
              "    }\n",
              "</style>\n",
              "<table border=\"1\" class=\"dataframe\">\n",
              "  <thead>\n",
              "    <tr style=\"text-align: right;\">\n",
              "      <th></th>\n",
              "      <th>id</th>\n",
              "      <th>document</th>\n",
              "      <th>label</th>\n",
              "    </tr>\n",
              "  </thead>\n",
              "  <tbody>\n",
              "    <tr>\n",
              "      <th>0</th>\n",
              "      <td>6270596</td>\n",
              "      <td>굳 ㅋ</td>\n",
              "      <td>1</td>\n",
              "    </tr>\n",
              "    <tr>\n",
              "      <th>1</th>\n",
              "      <td>9274899</td>\n",
              "      <td>GDNTOPCLASSINTHECLUB</td>\n",
              "      <td>0</td>\n",
              "    </tr>\n",
              "    <tr>\n",
              "      <th>2</th>\n",
              "      <td>8544678</td>\n",
              "      <td>뭐야 이 평점들은.... 나쁘진 않지만 10점 짜리는 더더욱 아니잖아</td>\n",
              "      <td>0</td>\n",
              "    </tr>\n",
              "    <tr>\n",
              "      <th>3</th>\n",
              "      <td>6825595</td>\n",
              "      <td>지루하지는 않은데 완전 막장임... 돈주고 보기에는....</td>\n",
              "      <td>0</td>\n",
              "    </tr>\n",
              "    <tr>\n",
              "      <th>4</th>\n",
              "      <td>6723715</td>\n",
              "      <td>3D만 아니었어도 별 다섯 개 줬을텐데.. 왜 3D로 나와서 제 심기를 불편하게 하죠??</td>\n",
              "      <td>0</td>\n",
              "    </tr>\n",
              "  </tbody>\n",
              "</table>\n",
              "</div>"
            ],
            "text/plain": [
              "        id                                           document  label\n",
              "0  6270596                                                굳 ㅋ      1\n",
              "1  9274899                               GDNTOPCLASSINTHECLUB      0\n",
              "2  8544678             뭐야 이 평점들은.... 나쁘진 않지만 10점 짜리는 더더욱 아니잖아      0\n",
              "3  6825595                   지루하지는 않은데 완전 막장임... 돈주고 보기에는....      0\n",
              "4  6723715  3D만 아니었어도 별 다섯 개 줬을텐데.. 왜 3D로 나와서 제 심기를 불편하게 하죠??      0"
            ]
          },
          "metadata": {
            "tags": []
          },
          "execution_count": 8
        }
      ]
    },
    {
      "cell_type": "markdown",
      "metadata": {
        "id": "ILjZTMijhyMC"
      },
      "source": [
        "#### 2 데이터 정제\n"
      ]
    },
    {
      "cell_type": "code",
      "metadata": {
        "colab": {
          "base_uri": "https://localhost:8080/"
        },
        "id": "EtNHU_u6ijTv",
        "outputId": "bbf67454-ff25-4b0e-8a61-0f27d8118aa7"
      },
      "source": [
        "train_data.iloc[:,1:].shape"
      ],
      "execution_count": 9,
      "outputs": [
        {
          "output_type": "execute_result",
          "data": {
            "text/plain": [
              "(150000, 2)"
            ]
          },
          "metadata": {
            "tags": []
          },
          "execution_count": 9
        }
      ]
    },
    {
      "cell_type": "code",
      "metadata": {
        "colab": {
          "base_uri": "https://localhost:8080/"
        },
        "id": "tSz3sI7siD0h",
        "outputId": "31ee7ab1-cd78-4da0-a89a-242c8086eccd"
      },
      "source": [
        " print(train_data['document'].nunique(), train_data['label'].nunique())\n",
        " print('중복데이터 수', train_data.iloc[:,1:].shape[0] - train_data['document'].nunique())"
      ],
      "execution_count": 10,
      "outputs": [
        {
          "output_type": "stream",
          "text": [
            "146182 2\n",
            "중복데이터 수 3818\n"
          ],
          "name": "stdout"
        }
      ]
    },
    {
      "cell_type": "code",
      "metadata": {
        "id": "duHevY3djBn7"
      },
      "source": [
        "train_data.drop_duplicates(subset=['document'], inplace=True)"
      ],
      "execution_count": 13,
      "outputs": []
    },
    {
      "cell_type": "code",
      "metadata": {
        "colab": {
          "base_uri": "https://localhost:8080/"
        },
        "id": "YiyZp2C0jtBp",
        "outputId": "74842bfd-6135-4ff4-e9b3-4b4bcf72fb26"
      },
      "source": [
        "# 중복데이터가 제된 shape\n",
        "train_data.shape"
      ],
      "execution_count": 14,
      "outputs": [
        {
          "output_type": "execute_result",
          "data": {
            "text/plain": [
              "(146183, 3)"
            ]
          },
          "metadata": {
            "tags": []
          },
          "execution_count": 14
        }
      ]
    },
    {
      "cell_type": "code",
      "metadata": {
        "colab": {
          "base_uri": "https://localhost:8080/"
        },
        "id": "cXbegP_1j5nJ",
        "outputId": "d887a2e0-e670-494e-8492-ea92d25747ea"
      },
      "source": [
        "train_data['label'].value_counts()\n",
        "# print(train_data.groupby('label').size().reset_index(name = 'count'))"
      ],
      "execution_count": 15,
      "outputs": [
        {
          "output_type": "execute_result",
          "data": {
            "text/plain": [
              "0    73342\n",
              "1    72841\n",
              "Name: label, dtype: int64"
            ]
          },
          "metadata": {
            "tags": []
          },
          "execution_count": 15
        }
      ]
    },
    {
      "cell_type": "code",
      "metadata": {
        "colab": {
          "base_uri": "https://localhost:8080/"
        },
        "id": "QqSC86xIkruH",
        "outputId": "6059d14b-877a-4144-a063-61ec4fdc7d6c"
      },
      "source": [
        "# r결측값 확인\n",
        "train_data.isnull().sum()"
      ],
      "execution_count": 16,
      "outputs": [
        {
          "output_type": "execute_result",
          "data": {
            "text/plain": [
              "id          0\n",
              "document    1\n",
              "label       0\n",
              "dtype: int64"
            ]
          },
          "metadata": {
            "tags": []
          },
          "execution_count": 16
        }
      ]
    },
    {
      "cell_type": "code",
      "metadata": {
        "colab": {
          "base_uri": "https://localhost:8080/",
          "height": 80
        },
        "id": "MtN-gXJYlAD7",
        "outputId": "658226a9-73fc-471d-e7b9-2fcca8612982"
      },
      "source": [
        "# 결측값 정보 확인\n",
        "# print(train_data.iloc[np.where(train_data.isnull())[0][0]])\n",
        "train_data.loc[train_data.document.isnull()]"
      ],
      "execution_count": 17,
      "outputs": [
        {
          "output_type": "execute_result",
          "data": {
            "text/html": [
              "<div>\n",
              "<style scoped>\n",
              "    .dataframe tbody tr th:only-of-type {\n",
              "        vertical-align: middle;\n",
              "    }\n",
              "\n",
              "    .dataframe tbody tr th {\n",
              "        vertical-align: top;\n",
              "    }\n",
              "\n",
              "    .dataframe thead th {\n",
              "        text-align: right;\n",
              "    }\n",
              "</style>\n",
              "<table border=\"1\" class=\"dataframe\">\n",
              "  <thead>\n",
              "    <tr style=\"text-align: right;\">\n",
              "      <th></th>\n",
              "      <th>id</th>\n",
              "      <th>document</th>\n",
              "      <th>label</th>\n",
              "    </tr>\n",
              "  </thead>\n",
              "  <tbody>\n",
              "    <tr>\n",
              "      <th>25857</th>\n",
              "      <td>2172111</td>\n",
              "      <td>NaN</td>\n",
              "      <td>1</td>\n",
              "    </tr>\n",
              "  </tbody>\n",
              "</table>\n",
              "</div>"
            ],
            "text/plain": [
              "            id document  label\n",
              "25857  2172111      NaN      1"
            ]
          },
          "metadata": {
            "tags": []
          },
          "execution_count": 17
        }
      ]
    },
    {
      "cell_type": "code",
      "metadata": {
        "id": "9tZyawKqlpnb"
      },
      "source": [
        "# 결측값 제거\n",
        "train_data = train_data.dropna(how = 'any')"
      ],
      "execution_count": 18,
      "outputs": []
    },
    {
      "cell_type": "code",
      "metadata": {
        "colab": {
          "base_uri": "https://localhost:8080/",
          "height": 204
        },
        "id": "80KP3csQmj-O",
        "outputId": "5d902122-1717-4402-91cc-7eee1ef18810"
      },
      "source": [
        "# 한글과 공백만 남기고 모두 제거\n",
        "train_data['document'] = train_data['document'].str.replace(\"[^ㄱ-ㅎㅏ-ㅣ가-힣 ]\",\"\")\n",
        "train_data.head()"
      ],
      "execution_count": 19,
      "outputs": [
        {
          "output_type": "execute_result",
          "data": {
            "text/html": [
              "<div>\n",
              "<style scoped>\n",
              "    .dataframe tbody tr th:only-of-type {\n",
              "        vertical-align: middle;\n",
              "    }\n",
              "\n",
              "    .dataframe tbody tr th {\n",
              "        vertical-align: top;\n",
              "    }\n",
              "\n",
              "    .dataframe thead th {\n",
              "        text-align: right;\n",
              "    }\n",
              "</style>\n",
              "<table border=\"1\" class=\"dataframe\">\n",
              "  <thead>\n",
              "    <tr style=\"text-align: right;\">\n",
              "      <th></th>\n",
              "      <th>id</th>\n",
              "      <th>document</th>\n",
              "      <th>label</th>\n",
              "    </tr>\n",
              "  </thead>\n",
              "  <tbody>\n",
              "    <tr>\n",
              "      <th>0</th>\n",
              "      <td>9976970</td>\n",
              "      <td>아 더빙 진짜 짜증나네요 목소리</td>\n",
              "      <td>0</td>\n",
              "    </tr>\n",
              "    <tr>\n",
              "      <th>1</th>\n",
              "      <td>3819312</td>\n",
              "      <td>흠포스터보고 초딩영화줄오버연기조차 가볍지 않구나</td>\n",
              "      <td>1</td>\n",
              "    </tr>\n",
              "    <tr>\n",
              "      <th>2</th>\n",
              "      <td>10265843</td>\n",
              "      <td>너무재밓었다그래서보는것을추천한다</td>\n",
              "      <td>0</td>\n",
              "    </tr>\n",
              "    <tr>\n",
              "      <th>3</th>\n",
              "      <td>9045019</td>\n",
              "      <td>교도소 이야기구먼 솔직히 재미는 없다평점 조정</td>\n",
              "      <td>0</td>\n",
              "    </tr>\n",
              "    <tr>\n",
              "      <th>4</th>\n",
              "      <td>6483659</td>\n",
              "      <td>사이몬페그의 익살스런 연기가 돋보였던 영화스파이더맨에서 늙어보이기만 했던 커스틴 던...</td>\n",
              "      <td>1</td>\n",
              "    </tr>\n",
              "  </tbody>\n",
              "</table>\n",
              "</div>"
            ],
            "text/plain": [
              "         id                                           document  label\n",
              "0   9976970                                  아 더빙 진짜 짜증나네요 목소리      0\n",
              "1   3819312                         흠포스터보고 초딩영화줄오버연기조차 가볍지 않구나      1\n",
              "2  10265843                                  너무재밓었다그래서보는것을추천한다      0\n",
              "3   9045019                          교도소 이야기구먼 솔직히 재미는 없다평점 조정      0\n",
              "4   6483659  사이몬페그의 익살스런 연기가 돋보였던 영화스파이더맨에서 늙어보이기만 했던 커스틴 던...      1"
            ]
          },
          "metadata": {
            "tags": []
          },
          "execution_count": 19
        }
      ]
    },
    {
      "cell_type": "code",
      "metadata": {
        "colab": {
          "base_uri": "https://localhost:8080/"
        },
        "id": "ehckh5uqnxPW",
        "outputId": "fbedb83e-7673-4cb8-d0ad-e71833f25038"
      },
      "source": [
        "#  영어, 숫자, 특수문자로만으로 구성된 행이 있을 수 있음  > White space로 변환되었을 행의 값을 '':공백 처리하고, \n",
        "train_data['document'] = train_data['document'].str.replace('^ +', \"\") \n",
        "# Null 값 삽입\n",
        "train_data['document'].replace('', np.nan, inplace=True)\n",
        "print(train_data.isnull().sum())"
      ],
      "execution_count": 20,
      "outputs": [
        {
          "output_type": "stream",
          "text": [
            "id            0\n",
            "document    789\n",
            "label         0\n",
            "dtype: int64\n"
          ],
          "name": "stdout"
        }
      ]
    },
    {
      "cell_type": "code",
      "metadata": {
        "colab": {
          "base_uri": "https://localhost:8080/",
          "height": 204
        },
        "id": "wNcqiyAboacV",
        "outputId": "fe091cb7-d8f0-44f7-c5c8-cd16f4098d9a"
      },
      "source": [
        "train_data.loc[train_data.document.isnull()][:5]"
      ],
      "execution_count": 21,
      "outputs": [
        {
          "output_type": "execute_result",
          "data": {
            "text/html": [
              "<div>\n",
              "<style scoped>\n",
              "    .dataframe tbody tr th:only-of-type {\n",
              "        vertical-align: middle;\n",
              "    }\n",
              "\n",
              "    .dataframe tbody tr th {\n",
              "        vertical-align: top;\n",
              "    }\n",
              "\n",
              "    .dataframe thead th {\n",
              "        text-align: right;\n",
              "    }\n",
              "</style>\n",
              "<table border=\"1\" class=\"dataframe\">\n",
              "  <thead>\n",
              "    <tr style=\"text-align: right;\">\n",
              "      <th></th>\n",
              "      <th>id</th>\n",
              "      <th>document</th>\n",
              "      <th>label</th>\n",
              "    </tr>\n",
              "  </thead>\n",
              "  <tbody>\n",
              "    <tr>\n",
              "      <th>404</th>\n",
              "      <td>4221289</td>\n",
              "      <td>NaN</td>\n",
              "      <td>0</td>\n",
              "    </tr>\n",
              "    <tr>\n",
              "      <th>412</th>\n",
              "      <td>9509970</td>\n",
              "      <td>NaN</td>\n",
              "      <td>1</td>\n",
              "    </tr>\n",
              "    <tr>\n",
              "      <th>470</th>\n",
              "      <td>10147571</td>\n",
              "      <td>NaN</td>\n",
              "      <td>1</td>\n",
              "    </tr>\n",
              "    <tr>\n",
              "      <th>584</th>\n",
              "      <td>7117896</td>\n",
              "      <td>NaN</td>\n",
              "      <td>0</td>\n",
              "    </tr>\n",
              "    <tr>\n",
              "      <th>593</th>\n",
              "      <td>6478189</td>\n",
              "      <td>NaN</td>\n",
              "      <td>0</td>\n",
              "    </tr>\n",
              "  </tbody>\n",
              "</table>\n",
              "</div>"
            ],
            "text/plain": [
              "           id document  label\n",
              "404   4221289      NaN      0\n",
              "412   9509970      NaN      1\n",
              "470  10147571      NaN      1\n",
              "584   7117896      NaN      0\n",
              "593   6478189      NaN      0"
            ]
          },
          "metadata": {
            "tags": []
          },
          "execution_count": 21
        }
      ]
    },
    {
      "cell_type": "code",
      "metadata": {
        "colab": {
          "base_uri": "https://localhost:8080/"
        },
        "id": "hKlpkqgPocQd",
        "outputId": "828cb10b-8d49-4aa2-ac4d-b4a81518bee5"
      },
      "source": [
        "train_data = train_data.dropna(how = 'any')\n",
        "train_data.document.isnull().values.any()"
      ],
      "execution_count": 22,
      "outputs": [
        {
          "output_type": "execute_result",
          "data": {
            "text/plain": [
              "False"
            ]
          },
          "metadata": {
            "tags": []
          },
          "execution_count": 22
        }
      ]
    },
    {
      "cell_type": "code",
      "metadata": {
        "id": "FXF2Kd9-pebq"
      },
      "source": [
        "# 테스트 셋도 동일하게 작업 수행\n",
        "    # 중복 행 제거\n",
        "    # 정규표현식 수행 (특수문자 등)\n",
        "    # 공백은 empty 값으로 변경 및 Null 값으로 대체\n",
        "    #  Null 값 제거\n",
        "test_data.drop_duplicates(subset=[\"document\"], inplace=True)\n",
        "test_data['document'] = test_data['document'].str.replace(\"[^ㄱ-ㅎㅏ-ㅣ가-힣 ]\",\"\")\n",
        "test_data['document'] = test_data['document'].str.replace('^ +', \"\")\n",
        "test_data['document'].replace('', np.nan, inplace=True)\n",
        "test_data = test_data.dropna(how='any')"
      ],
      "execution_count": 23,
      "outputs": []
    },
    {
      "cell_type": "markdown",
      "metadata": {
        "id": "REm9XaR-rIdT"
      },
      "source": [
        "#### 3 토큰화"
      ]
    },
    {
      "cell_type": "markdown",
      "metadata": {
        "id": "Dg5eoIUQrcur"
      },
      "source": [
        "##### 3-1 불용어 정의"
      ]
    },
    {
      "cell_type": "code",
      "metadata": {
        "id": "ZWavzQJhrM3C"
      },
      "source": [
        "stopwords = ['의','가','이','은','들','는','좀','잘','걍','과','도','를','으로','자','에','와','한','하다']"
      ],
      "execution_count": 24,
      "outputs": []
    },
    {
      "cell_type": "code",
      "metadata": {
        "colab": {
          "base_uri": "https://localhost:8080/"
        },
        "id": "MhCb20RlsAWf",
        "outputId": "147079d8-37b5-4c69-e519-c54efe94fdd8"
      },
      "source": [
        "# 형태소 분석 \n",
        "\n",
        "okt = Okt()\n",
        "\n",
        "X_train = []\n",
        "for sentence in train_data['document']:\n",
        "  temp_X = okt.morphs(sentence, stem=True)\n",
        "  temp_X = [x for x in temp_X if not x in stopwords]\n",
        "  X_train.append(temp_X)\n",
        "  \n",
        "X_train[:5]  "
      ],
      "execution_count": 27,
      "outputs": [
        {
          "output_type": "execute_result",
          "data": {
            "text/plain": [
              "[['아', '더빙', '진짜', '짜증나다', '목소리'],\n",
              " ['흠', '포스터', '보고', '초딩', '영화', '줄', '오버', '연기', '조차', '가볍다', '않다'],\n",
              " ['너', '무재', '밓었', '다그', '래서', '보다', '추천', '다'],\n",
              " ['교도소', '이야기', '구먼', '솔직하다', '재미', '없다', '평점', '조정'],\n",
              " ['사이',\n",
              "  '몬페',\n",
              "  '그',\n",
              "  '익살스럽다',\n",
              "  '연기',\n",
              "  '돋보이다',\n",
              "  '영화',\n",
              "  '스파이더맨',\n",
              "  '에서',\n",
              "  '늙다',\n",
              "  '보이다',\n",
              "  '커스틴',\n",
              "  '던스트',\n",
              "  '너무나도',\n",
              "  '이쁘다',\n",
              "  '보이다']]"
            ]
          },
          "metadata": {
            "tags": []
          },
          "execution_count": 27
        }
      ]
    },
    {
      "cell_type": "code",
      "metadata": {
        "colab": {
          "base_uri": "https://localhost:8080/"
        },
        "id": "CVxldnKeuEia",
        "outputId": "3611622a-4695-4042-94b4-d8eba1b56351"
      },
      "source": [
        "X_test = []\n",
        "\n",
        "for sentence in test_data['document']:\n",
        "    temp_X = okt.morphs(sentence, stem=True) \n",
        "    temp_X = [x for x in temp_X if not x in stopwords] \n",
        "    X_test.append(temp_X)\n",
        "\n",
        "X_test[:5]    "
      ],
      "execution_count": 28,
      "outputs": [
        {
          "output_type": "execute_result",
          "data": {
            "text/plain": [
              "[['굳다', 'ㅋ'],\n",
              " ['뭐', '야', '평점', '나쁘다', '않다', '점', '짜다', '리', '더', '더욱', '아니다'],\n",
              " ['지루하다', '않다', '완전', '막장', '임', '돈', '주다', '보기', '에는'],\n",
              " ['만', '아니다', '별', '다섯', '개', '주다', '왜', '로', '나오다', '제', '심기', '불편하다'],\n",
              " ['음악', '주가', '되다', '최고', '음악', '영화']]"
            ]
          },
          "metadata": {
            "tags": []
          },
          "execution_count": 28
        }
      ]
    },
    {
      "cell_type": "markdown",
      "metadata": {
        "id": "odxz0swEyTiE"
      },
      "source": [
        "#### 4 정수인코딩\n",
        "\n",
        "      - 위, X_train 과 X_test 에 대해서, 불용처 처리만으로 단어가 완벽하게 정제되지 못함을 확인했다. \n",
        "      ㅋ d이나 리, 더와 같은 의미가 없는 단어들 또는 조합이다. \n",
        "      물론 Stopwords list 를 디테일하게 추가해가는 것도 해결 방안 중 하나이겠지만, \n",
        "      count 를 통해서, 정제처리를 해주는 것도 하나의 차선책으로 이상적일 수 있겠다. "
      ]
    },
    {
      "cell_type": "code",
      "metadata": {
        "id": "vLSU-YmR0zbA"
      },
      "source": [
        "tokenizer = Tokenizer()\n",
        "tokenizer.fit_on_texts(X_train)\n",
        "# print(tokenizer.word_index)"
      ],
      "execution_count": 61,
      "outputs": []
    },
    {
      "cell_type": "code",
      "metadata": {
        "colab": {
          "base_uri": "https://localhost:8080/"
        },
        "id": "DBS80S_n3Apk",
        "outputId": "713c35be-4bae-45ee-ca73-b37ff1f215a3"
      },
      "source": [
        "\n",
        "threshold = 3\n",
        "total_cnt = len(tokenizer.word_index) \n",
        "rare_cnt = 0 \n",
        "total_freq = 0 \n",
        "rare_freq = 0 \n",
        "\n",
        "# 단어와 빈도수 : key와 value (tokenizer.word_counts.item())\n",
        "for key, value in tokenizer.word_counts.items():\n",
        "    total_freq = total_freq + value\n",
        "\n",
        "    if(value < threshold):\n",
        "        rare_cnt = rare_cnt + 1\n",
        "        rare_freq = rare_freq + value\n",
        "\n",
        "print('단어 집합(vocabulary)의 크기 :',total_cnt)\n",
        "print('등장 빈도가 %s번 이하인 희귀 단어의 수: %s'%(threshold - 1, rare_cnt))\n",
        "print(\"단어 집합에서 희귀 단어의 비율:\", (rare_cnt / total_cnt)*100)\n",
        "print(\"전체 등장 빈도에서 희귀 단어 등장 빈도 비율:\", (rare_freq / total_freq)*100)"
      ],
      "execution_count": 30,
      "outputs": [
        {
          "output_type": "stream",
          "text": [
            "단어 집합(vocabulary)의 크기 : 43752\n",
            "등장 빈도가 2번 이하인 희귀 단어의 수: 24337\n",
            "단어 집합에서 희귀 단어의 비율: 55.62488571950996\n",
            "전체 등장 빈도에서 희귀 단어 등장 빈도 비율: 1.8715872104872904\n"
          ],
          "name": "stdout"
        }
      ]
    },
    {
      "cell_type": "code",
      "metadata": {
        "colab": {
          "base_uri": "https://localhost:8080/"
        },
        "id": "MRruTV406kpo",
        "outputId": "e316eb99-2ef3-4570-b5dd-9aa679439e2d"
      },
      "source": [
        "# 학습을 위해 빈도수가 2 이하인 단어를 제거한, 즉, 학습에 사용할 단어의 공간 만큼을 vocab size로 지정한다.\n",
        "# 여기서 +1은 0번 패딩 토큰을 위해 남겨둔다\n",
        "# 주의 :  정수 인코딩 과정에서 배제한 것이지 데이터는 그대로 남아있음\n",
        "\n",
        "vocab_size = total_cnt - rare_cnt + 1\n",
        "print('단어 집합의 크기 :',vocab_size)"
      ],
      "execution_count": 31,
      "outputs": [
        {
          "output_type": "stream",
          "text": [
            "단어 집합의 크기 : 19416\n"
          ],
          "name": "stdout"
        }
      ]
    },
    {
      "cell_type": "code",
      "metadata": {
        "id": "69r4d53e7eS1"
      },
      "source": [
        "tokenizer = Tokenizer(vocab_size) \n",
        "tokenizer.fit_on_texts(X_train)\n",
        "X_train = tokenizer.texts_to_sequences(X_train)\n",
        "X_test = tokenizer.texts_to_sequences(X_test)"
      ],
      "execution_count": 32,
      "outputs": []
    },
    {
      "cell_type": "code",
      "metadata": {
        "colab": {
          "base_uri": "https://localhost:8080/"
        },
        "id": "8iYxuTrF7vFU",
        "outputId": "df1eac1d-6021-43b1-818b-a394f749c312"
      },
      "source": [
        "print(X_train[:3])"
      ],
      "execution_count": 33,
      "outputs": [
        {
          "output_type": "stream",
          "text": [
            "[[50, 454, 16, 260, 659], [933, 457, 41, 602, 1, 214, 1449, 24, 961, 675, 19], [386, 2444, 2315, 5671, 2, 222, 9]]\n"
          ],
          "name": "stdout"
        }
      ]
    },
    {
      "cell_type": "code",
      "metadata": {
        "id": "SikgIOtI7yeY"
      },
      "source": [
        "y_train = np.array(train_data['label'])\n",
        "y_test = np.array(test_data['label'])"
      ],
      "execution_count": 34,
      "outputs": []
    },
    {
      "cell_type": "markdown",
      "metadata": {
        "id": "KsJYmvR38GCh"
      },
      "source": [
        "#### 5 빈 샘플(Empty sample 제거)"
      ]
    },
    {
      "cell_type": "code",
      "metadata": {
        "colab": {
          "base_uri": "https://localhost:8080/"
        },
        "id": "Jy_n4jgI8OWu",
        "outputId": "1de4f22c-97b7-4eae-ac85-7289ab7cb43b"
      },
      "source": [
        "drop_train = [index for index, sentence in enumerate(X_train) if len(sentence) < 1]\n",
        "\n",
        "X_train = np.delete(X_train, drop_train, axis=0)\n",
        "y_train = np.delete(y_train, drop_train, axis=0)\n",
        "\n",
        "print(len(X_train))\n",
        "print(len(y_train))"
      ],
      "execution_count": 35,
      "outputs": [
        {
          "output_type": "stream",
          "text": [
            "145162\n",
            "145162\n"
          ],
          "name": "stdout"
        },
        {
          "output_type": "stream",
          "text": [
            "/usr/local/lib/python3.7/dist-packages/numpy/core/_asarray.py:83: VisibleDeprecationWarning: Creating an ndarray from ragged nested sequences (which is a list-or-tuple of lists-or-tuples-or ndarrays with different lengths or shapes) is deprecated. If you meant to do this, you must specify 'dtype=object' when creating the ndarray\n",
            "  return array(a, dtype, copy=False, order=order)\n"
          ],
          "name": "stderr"
        }
      ]
    },
    {
      "cell_type": "markdown",
      "metadata": {
        "id": "geRVHq4n8xYY"
      },
      "source": [
        "#### 6 패딩 : 길이 맞추기 , 0 주입하기"
      ]
    },
    {
      "cell_type": "code",
      "metadata": {
        "colab": {
          "base_uri": "https://localhost:8080/",
          "height": 315
        },
        "id": "hKCFpxpP86pS",
        "outputId": "50906b1d-c5ab-4a25-a1ea-595d3a3fec81"
      },
      "source": [
        "print('리뷰의 최대 길이 :',max(len(l) for l in X_train))\n",
        "print('리뷰의 평균 길이 :',sum(map(len, X_train))/len(X_train))\n",
        "\n",
        "plt.hist([len(s) for s in X_train], bins=50)\n",
        "plt.xlabel('length of samples')\n",
        "plt.ylabel('number of samples')\n",
        "plt.show()"
      ],
      "execution_count": 36,
      "outputs": [
        {
          "output_type": "stream",
          "text": [
            "리뷰의 최대 길이 : 69\n",
            "리뷰의 평균 길이 : 10.812485361182679\n"
          ],
          "name": "stdout"
        },
        {
          "output_type": "display_data",
          "data": {
            "image/png": "[encoded data removed]",
            "text/plain": [
              "<Figure size 432x288 with 1 Axes>"
            ]
          },
          "metadata": {
            "tags": [],
            "needs_background": "light"
          }
        }
      ]
    },
    {
      "cell_type": "code",
      "metadata": {
        "id": "1jDms7hQ9R8o"
      },
      "source": [
        "# 모든 샘플의 길이를 30으로 맞추기로 한다. \n",
        "# 30보다 긴 데이터의 경우는, 30으로 나머지는 임의의 값 0을 채울 것\n",
        "\n",
        "X_train = pad_sequences(X_train, maxlen = 30)\n",
        "X_test = pad_sequences(X_test, maxlen = 30)"
      ],
      "execution_count": 37,
      "outputs": []
    },
    {
      "cell_type": "code",
      "metadata": {
        "colab": {
          "base_uri": "https://localhost:8080/"
        },
        "id": "8hxsLDZz-js3",
        "outputId": "c9aa0db3-6d16-4bad-cd04-97bd58fb306e"
      },
      "source": [
        "X_train"
      ],
      "execution_count": 40,
      "outputs": [
        {
          "output_type": "execute_result",
          "data": {
            "text/plain": [
              "array([[    0,     0,     0, ...,    16,   260,   659],\n",
              "       [    0,     0,     0, ...,   961,   675,    19],\n",
              "       [    0,     0,     0, ...,     2,   222,     9],\n",
              "       ...,\n",
              "       [    0,     0,     0, ..., 10465, 10401,  1043],\n",
              "       [    0,     0,     0, ...,  1224,   540,  7848],\n",
              "       [    0,     0,     0, ...,    58,  1357,     1]], dtype=int32)"
            ]
          },
          "metadata": {
            "tags": []
          },
          "execution_count": 40
        }
      ]
    },
    {
      "cell_type": "code",
      "metadata": {
        "colab": {
          "base_uri": "https://localhost:8080/"
        },
        "id": "nsahtcD8-qE7",
        "outputId": "e7cf0db8-4e8b-48d9-92b8-ba7237ada10e"
      },
      "source": [
        " X_test"
      ],
      "execution_count": 41,
      "outputs": [
        {
          "output_type": "execute_result",
          "data": {
            "text/plain": [
              "array([[   0,    0,    0, ...,    0,  746,   88],\n",
              "       [   0,    0,    0, ...,   46,  785,   18],\n",
              "       [   0,    0,    0, ...,   62,  149,  275],\n",
              "       ...,\n",
              "       [   0,    0,    0, ...,  286, 3334,   22],\n",
              "       [   0,    0,    0, ...,    9, 7765,   69],\n",
              "       [   0,    0,    0, ...,  136,   36, 1233]], dtype=int32)"
            ]
          },
          "metadata": {
            "tags": []
          },
          "execution_count": 41
        }
      ]
    },
    {
      "cell_type": "markdown",
      "metadata": {
        "id": "VsBq56DY-toF"
      },
      "source": [
        "#### 7 LSTM으로 감성분석 진행"
      ]
    },
    {
      "cell_type": "code",
      "metadata": {
        "id": "M2Uox9GK-2Rm"
      },
      "source": [
        "model = Sequential()\n",
        "model.add(Embedding(vocab_size, 100))\n",
        "\n",
        "# 128, return_sequences=False\n",
        "\n",
        "#  the embeddings through an LSTM layer with 128-dimensional hidden state\n",
        "# return_state=True :  the outputs, the last hidden state and the last cell state.\n",
        "\n",
        "model.add(LSTM(128))\n",
        "\n",
        "# 배치사이즈 : 1\n",
        "model.add(Dense(1, activation='sigmoid'))"
      ],
      "execution_count": 43,
      "outputs": []
    },
    {
      "cell_type": "code",
      "metadata": {
        "colab": {
          "base_uri": "https://localhost:8080/"
        },
        "id": "M8HNF6oI_Nn3",
        "outputId": "4657f8ae-f8fe-4d6e-c137-fd1a26e070b2"
      },
      "source": [
        "model.summary()"
      ],
      "execution_count": 44,
      "outputs": [
        {
          "output_type": "stream",
          "text": [
            "Model: \"sequential\"\n",
            "_________________________________________________________________\n",
            "Layer (type)                 Output Shape              Param #   \n",
            "=================================================================\n",
            "embedding (Embedding)        (None, None, 100)         1941600   \n",
            "_________________________________________________________________\n",
            "lstm (LSTM)                  (None, 128)               117248    \n",
            "_________________________________________________________________\n",
            "dense (Dense)                (None, 1)                 129       \n",
            "=================================================================\n",
            "Total params: 2,058,977\n",
            "Trainable params: 2,058,977\n",
            "Non-trainable params: 0\n",
            "_________________________________________________________________\n"
          ],
          "name": "stdout"
        }
      ]
    },
    {
      "cell_type": "code",
      "metadata": {
        "id": "zsf24miQCyEh"
      },
      "source": [
        "es = EarlyStopping(monitor='val_loss', mode='min', verbose=1, patience=4)\n",
        "# the number of epochs to wait before early stop if no progress on the validation set. \n",
        "# The patience is often set somewhere between 10 and 100 (10 or 20 is more common), but it really depends on your dataset and network.\n",
        "\n",
        "#  검증 데이터의 정확도(val_acc)가 이전보다 좋아질 경우에만 모델을 저장/\n",
        "mc = ModelCheckpoint('best_model.h5', monitor='val_acc', mode='max', verbose=1, save_best_only=True)"
      ],
      "execution_count": 45,
      "outputs": []
    },
    {
      "cell_type": "code",
      "metadata": {
        "colab": {
          "base_uri": "https://localhost:8080/"
        },
        "id": "Zx3aP_ALEb36",
        "outputId": "1feda048-8f81-4d13-ebe5-546ed27352ab"
      },
      "source": [
        "model.compile(optimizer='rmsprop', loss='binary_crossentropy', metrics=['acc'])\n",
        "history = model.fit(X_train, y_train, epochs=15, callbacks=[es, mc], batch_size=60, validation_split=0.2)"
      ],
      "execution_count": 47,
      "outputs": [
        {
          "output_type": "stream",
          "text": [
            "Epoch 1/15\n",
            "1936/1936 [==============================] - 25s 11ms/step - loss: 0.2800 - acc: 0.8835 - val_loss: 0.3296 - val_acc: 0.8569\n",
            "WARNING:tensorflow:Early stopping conditioned on metric `val_losss` which is not available. Available metrics are: loss,acc,val_loss,val_acc\n",
            "\n",
            "Epoch 00001: val_acc improved from 0.85055 to 0.85689, saving model to best_model.h5\n",
            "Epoch 2/15\n",
            "1936/1936 [==============================] - 21s 11ms/step - loss: 0.2658 - acc: 0.8908 - val_loss: 0.3304 - val_acc: 0.8596\n",
            "WARNING:tensorflow:Early stopping conditioned on metric `val_losss` which is not available. Available metrics are: loss,acc,val_loss,val_acc\n",
            "\n",
            "Epoch 00002: val_acc improved from 0.85689 to 0.85964, saving model to best_model.h5\n",
            "Epoch 3/15\n",
            "1936/1936 [==============================] - 21s 11ms/step - loss: 0.2481 - acc: 0.9000 - val_loss: 0.3389 - val_acc: 0.8574\n",
            "WARNING:tensorflow:Early stopping conditioned on metric `val_losss` which is not available. Available metrics are: loss,acc,val_loss,val_acc\n",
            "\n",
            "Epoch 00003: val_acc did not improve from 0.85964\n",
            "Epoch 4/15\n",
            "1936/1936 [==============================] - 22s 11ms/step - loss: 0.2356 - acc: 0.9059 - val_loss: 0.3423 - val_acc: 0.8559\n",
            "WARNING:tensorflow:Early stopping conditioned on metric `val_losss` which is not available. Available metrics are: loss,acc,val_loss,val_acc\n",
            "\n",
            "Epoch 00004: val_acc did not improve from 0.85964\n",
            "Epoch 5/15\n",
            "1936/1936 [==============================] - 22s 11ms/step - loss: 0.2196 - acc: 0.9129 - val_loss: 0.3579 - val_acc: 0.8482\n",
            "WARNING:tensorflow:Early stopping conditioned on metric `val_losss` which is not available. Available metrics are: loss,acc,val_loss,val_acc\n",
            "\n",
            "Epoch 00005: val_acc did not improve from 0.85964\n",
            "Epoch 6/15\n",
            "1936/1936 [==============================] - 22s 12ms/step - loss: 0.2030 - acc: 0.9209 - val_loss: 0.3743 - val_acc: 0.8455\n",
            "WARNING:tensorflow:Early stopping conditioned on metric `val_losss` which is not available. Available metrics are: loss,acc,val_loss,val_acc\n",
            "\n",
            "Epoch 00006: val_acc did not improve from 0.85964\n",
            "Epoch 7/15\n",
            "1936/1936 [==============================] - 22s 11ms/step - loss: 0.1824 - acc: 0.9292 - val_loss: 0.3758 - val_acc: 0.8503\n",
            "WARNING:tensorflow:Early stopping conditioned on metric `val_losss` which is not available. Available metrics are: loss,acc,val_loss,val_acc\n",
            "\n",
            "Epoch 00007: val_acc did not improve from 0.85964\n",
            "Epoch 8/15\n",
            "1936/1936 [==============================] - 23s 12ms/step - loss: 0.1673 - acc: 0.9358 - val_loss: 0.4022 - val_acc: 0.8472\n",
            "WARNING:tensorflow:Early stopping conditioned on metric `val_losss` which is not available. Available metrics are: loss,acc,val_loss,val_acc\n",
            "\n",
            "Epoch 00008: val_acc did not improve from 0.85964\n",
            "Epoch 9/15\n",
            "1936/1936 [==============================] - 23s 12ms/step - loss: 0.1501 - acc: 0.9439 - val_loss: 0.4547 - val_acc: 0.8366\n",
            "WARNING:tensorflow:Early stopping conditioned on metric `val_losss` which is not available. Available metrics are: loss,acc,val_loss,val_acc\n",
            "\n",
            "Epoch 00009: val_acc did not improve from 0.85964\n",
            "Epoch 10/15\n",
            "1936/1936 [==============================] - 21s 11ms/step - loss: 0.1323 - acc: 0.9507 - val_loss: 0.4634 - val_acc: 0.8409\n",
            "WARNING:tensorflow:Early stopping conditioned on metric `val_losss` which is not available. Available metrics are: loss,acc,val_loss,val_acc\n",
            "\n",
            "Epoch 00010: val_acc did not improve from 0.85964\n",
            "Epoch 11/15\n",
            "1936/1936 [==============================] - 21s 11ms/step - loss: 0.1198 - acc: 0.9560 - val_loss: 0.5301 - val_acc: 0.8302\n",
            "WARNING:tensorflow:Early stopping conditioned on metric `val_losss` which is not available. Available metrics are: loss,acc,val_loss,val_acc\n",
            "\n",
            "Epoch 00011: val_acc did not improve from 0.85964\n",
            "Epoch 12/15\n",
            "1936/1936 [==============================] - 21s 11ms/step - loss: 0.1045 - acc: 0.9626 - val_loss: 0.5216 - val_acc: 0.8370\n",
            "WARNING:tensorflow:Early stopping conditioned on metric `val_losss` which is not available. Available metrics are: loss,acc,val_loss,val_acc\n",
            "\n",
            "Epoch 00012: val_acc did not improve from 0.85964\n",
            "Epoch 13/15\n",
            "1936/1936 [==============================] - 22s 11ms/step - loss: 0.0921 - acc: 0.9674 - val_loss: 0.5918 - val_acc: 0.8284\n",
            "WARNING:tensorflow:Early stopping conditioned on metric `val_losss` which is not available. Available metrics are: loss,acc,val_loss,val_acc\n",
            "\n",
            "Epoch 00013: val_acc did not improve from 0.85964\n",
            "Epoch 14/15\n",
            "1936/1936 [==============================] - 22s 11ms/step - loss: 0.0792 - acc: 0.9717 - val_loss: 0.6399 - val_acc: 0.8282\n",
            "WARNING:tensorflow:Early stopping conditioned on metric `val_losss` which is not available. Available metrics are: loss,acc,val_loss,val_acc\n",
            "\n",
            "Epoch 00014: val_acc did not improve from 0.85964\n",
            "Epoch 15/15\n",
            "1936/1936 [==============================] - 22s 11ms/step - loss: 0.0681 - acc: 0.9760 - val_loss: 0.6890 - val_acc: 0.8273\n",
            "WARNING:tensorflow:Early stopping conditioned on metric `val_losss` which is not available. Available metrics are: loss,acc,val_loss,val_acc\n",
            "\n",
            "Epoch 00015: val_acc did not improve from 0.85964\n"
          ],
          "name": "stdout"
        }
      ]
    },
    {
      "cell_type": "code",
      "metadata": {
        "colab": {
          "base_uri": "https://localhost:8080/"
        },
        "id": "-JM_CCyjEx1n",
        "outputId": "1e4201c9-7d4b-4cf8-87e4-c994c3c4f3d8"
      },
      "source": [
        "loaded_model = load_model('best_model.h5')\n",
        "print(\"\\n 테스트 정확도: %.4f\" % (loaded_model.evaluate(X_test, y_test)[1]))"
      ],
      "execution_count": 48,
      "outputs": [
        {
          "output_type": "stream",
          "text": [
            "1527/1527 [==============================] - 5s 3ms/step - loss: 0.3369 - acc: 0.8558\n",
            "\n",
            " 테스트 정확도: 0.8558\n"
          ],
          "name": "stdout"
        }
      ]
    },
    {
      "cell_type": "markdown",
      "metadata": {
        "id": "9cZ53Qr7Hohu"
      },
      "source": [
        "#### 8 리뷰 예측해보기"
      ]
    },
    {
      "cell_type": "code",
      "metadata": {
        "id": "S-Q1sj-gHVje"
      },
      "source": [
        "# 기본적으로 현재 학습한 model에 새로운 입력에 대해서 예측값을 얻는 것은 model.predict()를 사용\n",
        "# model.fit()을 할 때와 마찬가지로 새로운 입력에 대해서도 동일한 전처리를 수행 후에 model.predict()의 입력으로 사용해야 함.\n",
        "\n",
        "max_len = 30\n",
        "\n",
        "def sentiment_predict(new_sentence):\n",
        "  new_sentence = okt.morphs(new_sentence, stem=True) \n",
        "  new_sentence = [word for word in new_sentence if not word in stopwords] \n",
        "  encoded = tokenizer.texts_to_sequences([new_sentence]) \n",
        "  pad_new = pad_sequences(encoded, maxlen = max_len)\n",
        "  score = float(loaded_model.predict(pad_new))\n",
        "\n",
        "  if(score > 0.5):\n",
        "    print(\"{:.2f}% 확률로 긍정 리뷰입니다.\\n\".format(score * 100))\n",
        "  else:\n",
        "    print(\"{:.2f}% 확률로 부정 리뷰입니다.\\n\".format((1 - score) * 100))"
      ],
      "execution_count": 52,
      "outputs": []
    },
    {
      "cell_type": "code",
      "metadata": {
        "colab": {
          "base_uri": "https://localhost:8080/"
        },
        "id": "0r2_0YFiIhqa",
        "outputId": "c4f58951-0330-43ac-d6fb-28b01c9c4bba"
      },
      "source": [
        "sentiment_predict('이 영화 개꿀잼 ㅋㅋㅋ')\n",
        "sentiment_predict('감독 뭐하는 놈이냐?')"
      ],
      "execution_count": 54,
      "outputs": [
        {
          "output_type": "stream",
          "text": [
            "91.81% 확률로 긍정 리뷰입니다.\n",
            "\n",
            "98.67% 확률로 부정 리뷰입니다.\n",
            "\n"
          ],
          "name": "stdout"
        }
      ]
    }
  ]
}