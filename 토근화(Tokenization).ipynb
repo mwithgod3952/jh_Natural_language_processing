{
  "nbformat": 4,
  "nbformat_minor": 0,
  "metadata": {
    "colab": {
      "name": "토근화(Tokenization)",
      "provenance": [],
      "collapsed_sections": [],
      "authorship_tag": "ABX9TyN4Iwpxem7od1xs/qicltS4",
      "include_colab_link": true
    },
    "kernelspec": {
      "name": "python3",
      "display_name": "Python 3"
    },
    "language_info": {
      "name": "python"
    }
  },
  "cells": [
    {
      "cell_type": "markdown",
      "metadata": {
        "id": "view-in-github",
        "colab_type": "text"
      },
      "source": [
        "<a href=\"https://colab.research.google.com/github/mwithgod3952/jh_Natural_language_processing/blob/main/%ED%86%A0%EA%B7%BC%ED%99%94(Tokenization).ipynb\" target=\"_parent\"><img src=\"https://colab.research.google.com/assets/colab-badge.svg\" alt=\"Open In Colab\"/></a>"
      ]
    },
    {
      "cell_type": "markdown",
      "metadata": {
        "id": "zddcu124qjP_"
      },
      "source": [
        " **용어정리** \n",
        "\n",
        "1.   코퍼스 데이터 : '언어 데이터를 한데 모아둔 것\n",
        "(통상적으로, 자연어처리에서 전처리 되기 전 상태의 언어 데이터 상태를 지명하는 것으로 이해)\n",
        "\n",
        "2.   코퍼스 데이터를 용도에 맞게 변경할 필요가 있음\n",
        "Ex) 토큰화(tokenization) \n",
        "    정제(cleaning) \n",
        "    정규화(normalization)\n",
        "\n",
        "          - 토큰의 단위는 상황에 따라 다르지만, 보통 의미있는 단위로 토큰을 정의\n",
        "              * 단어 토큰화(word tokenization) \n",
        "                + 단어구, 의미 단위의 문자열로 간주되기도 함\n",
        "\n",
        "3.   구분자(boundary)                "
      ]
    },
    {
      "cell_type": "code",
      "metadata": {
        "colab": {
          "base_uri": "https://localhost:8080/"
        },
        "id": "Yt4V02f3rKmP",
        "outputId": "2048eebd-ef09-42e5-d00b-2e28dd64e3f1"
      },
      "source": [
        "import nltk\n",
        "nltk.download('stopwords')\n",
        "nltk.download('wordnet')\n",
        "nltk.download('punkt')\n",
        "nltk.download('averaged_perceptron_tagger') \n",
        "\n",
        "from nltk.tokenize import word_tokenize "
      ],
      "execution_count": 12,
      "outputs": [
        {
          "output_type": "stream",
          "text": [
            "[nltk_data] Downloading package stopwords to /root/nltk_data...\n",
            "[nltk_data]   Unzipping corpora/stopwords.zip.\n",
            "[nltk_data] Downloading package wordnet to /root/nltk_data...\n",
            "[nltk_data]   Unzipping corpora/wordnet.zip.\n",
            "[nltk_data] Downloading package punkt to /root/nltk_data...\n",
            "[nltk_data]   Package punkt is already up-to-date!\n",
            "[nltk_data] Downloading package averaged_perceptron_tagger to\n",
            "[nltk_data]     /root/nltk_data...\n",
            "[nltk_data]   Unzipping taggers/averaged_perceptron_tagger.zip.\n"
          ],
          "name": "stdout"
        }
      ]
    },
    {
      "cell_type": "code",
      "metadata": {
        "colab": {
          "base_uri": "https://localhost:8080/"
        },
        "id": "Ds47QoHqvGfX",
        "outputId": "1210a339-fd8e-4ee7-8367-c0cce7a03a00"
      },
      "source": [
        "print(word_tokenize(\"Don't be fooled by the dark sounding name, Mr. Jone's Orphanage is as cheery as cheery goes for a pastry shop.\"))"
      ],
      "execution_count": 13,
      "outputs": [
        {
          "output_type": "stream",
          "text": [
            "['Do', \"n't\", 'be', 'fooled', 'by', 'the', 'dark', 'sounding', 'name', ',', 'Mr.', 'Jone', \"'s\", 'Orphanage', 'is', 'as', 'cheery', 'as', 'cheery', 'goes', 'for', 'a', 'pastry', 'shop', '.']\n"
          ],
          "name": "stdout"
        }
      ]
    },
    {
      "cell_type": "code",
      "metadata": {
        "colab": {
          "base_uri": "https://localhost:8080/"
        },
        "id": "p3ye9Vm5v4fw",
        "outputId": "385c0f87-6f42-43ed-8fce-0e5ffedfce7e"
      },
      "source": [
        "from nltk.tokenize import WordPunctTokenizer  \n",
        "print(WordPunctTokenizer().tokenize(\"Don't be fooled by the dark sounding name, Mr. Jone's Orphanage is as cheery as cheery goes for a pastry shop.\"))"
      ],
      "execution_count": 15,
      "outputs": [
        {
          "output_type": "stream",
          "text": [
            "['Don', \"'\", 't', 'be', 'fooled', 'by', 'the', 'dark', 'sounding', 'name', ',', 'Mr', '.', 'Jone', \"'\", 's', 'Orphanage', 'is', 'as', 'cheery', 'as', 'cheery', 'goes', 'for', 'a', 'pastry', 'shop', '.']\n"
          ],
          "name": "stdout"
        }
      ]
    },
    {
      "cell_type": "markdown",
      "metadata": {
        "id": "inbSd59DxbHi"
      },
      "source": [
        "***WordPunctTokenizer().tokenize : 구두점을 별도로 분류***"
      ]
    },
    {
      "cell_type": "code",
      "metadata": {
        "colab": {
          "base_uri": "https://localhost:8080/"
        },
        "id": "eWN3j9rgxODQ",
        "outputId": "daf80650-70f1-43ca-d1ca-c821ef021059"
      },
      "source": [
        "from tensorflow.keras.preprocessing.text import text_to_word_sequence\n",
        "print(text_to_word_sequence(\"Don't be fooled by the dark sounding name, Mr. Jone's Orphanage is as cheery as cheery goes for a pastry shop.\"))"
      ],
      "execution_count": 16,
      "outputs": [
        {
          "output_type": "stream",
          "text": [
            "[\"don't\", 'be', 'fooled', 'by', 'the', 'dark', 'sounding', 'name', 'mr', \"jone's\", 'orphanage', 'is', 'as', 'cheery', 'as', 'cheery', 'goes', 'for', 'a', 'pastry', 'shop']\n"
          ],
          "name": "stdout"
        }
      ]
    },
    {
      "cell_type": "markdown",
      "metadata": {
        "id": "kNNBaDQbxvqp"
      },
      "source": [
        "***text_to_word_sequence : 소문자로 바꿈 / 특정 구두점을 제거***"
      ]
    },
    {
      "cell_type": "markdown",
      "metadata": {
        "id": "uQlPcmhv06Cd"
      },
      "source": [
        "---"
      ]
    },
    {
      "cell_type": "markdown",
      "metadata": {
        "id": "DkLFN86FyMMv"
      },
      "source": [
        "코퍼스에 대한 정제 작업을 진행하다보면, 구두점조차도 하나의 토큰으로 분류하기도 하기 때문에, 무조건적으로 구두점을 제거하는 것은 지양하도록 한다.\n",
        "\n",
        "      - 마침표(.)와 같은 경우는 문장의 경계를 알 수 있는데 도움이 됨\n",
        "      - 단어 자체가 구두점을 갖고 있는 경우 Ex) m.p.h, Ph.D나 AT&T \n",
        "\n",
        "표준 토큰화 :  Penn Treebank Tokenization > TreebankWordTokenizer()\n",
        "\n",
        "      - 하이푼으로 구성된 단어는 하나로 유지한다.\n",
        "      - doesn't와 같이 아포스트로피로 '접어'가 함께하는 단어는 분리해준다."
      ]
    },
    {
      "cell_type": "code",
      "metadata": {
        "id": "yZkXmHiTyq5p"
      },
      "source": [
        "from nltk.tokenize import TreebankWordTokenizer\n",
        "tokenizer=TreebankWordTokenizer()"
      ],
      "execution_count": 18,
      "outputs": []
    },
    {
      "cell_type": "code",
      "metadata": {
        "colab": {
          "base_uri": "https://localhost:8080/"
        },
        "id": "YK_1gkTdzk6g",
        "outputId": "9eed7b30-3a96-4879-a4e3-d561cd021920"
      },
      "source": [
        "text=\"Starting a home-based restaurant may be an ideal. it doesn't have a food chain or restaurant of their own.\"\n",
        "print(tokenizer.tokenize(text))"
      ],
      "execution_count": 19,
      "outputs": [
        {
          "output_type": "stream",
          "text": [
            "['Starting', 'a', 'home-based', 'restaurant', 'may', 'be', 'an', 'ideal.', 'it', 'does', \"n't\", 'have', 'a', 'food', 'chain', 'or', 'restaurant', 'of', 'their', 'own', '.']\n"
          ],
          "name": "stdout"
        }
      ]
    },
    {
      "cell_type": "markdown",
      "metadata": {
        "id": "ZHpoZVXy1m3d"
      },
      "source": [
        "---"
      ]
    },
    {
      "cell_type": "markdown",
      "metadata": {
        "id": "U6sYiXv42Fgy"
      },
      "source": [
        "***문장토큰화***"
      ]
    },
    {
      "cell_type": "code",
      "metadata": {
        "id": "C91SifXi1p_s"
      },
      "source": [
        "from nltk.tokenize import sent_tokenize\n",
        "text=\"His barber kept his word. But keeping such a huge secret to himself was driving him crazy. Finally, the barber went up a mountain and almost to the edge of a cliff. He dug a hole in the midst of some reeds. He looked about, to make sure no one was near.\""
      ],
      "execution_count": 21,
      "outputs": []
    },
    {
      "cell_type": "code",
      "metadata": {
        "colab": {
          "base_uri": "https://localhost:8080/"
        },
        "id": "uP_4Nk-O10vh",
        "outputId": "00de0994-96e2-4c7d-9603-f9e2eba4f504"
      },
      "source": [
        "result = sent_tokenize(text)\n",
        "result"
      ],
      "execution_count": 23,
      "outputs": [
        {
          "output_type": "execute_result",
          "data": {
            "text/plain": [
              "['His barber kept his word.',\n",
              " 'But keeping such a huge secret to himself was driving him crazy.',\n",
              " 'Finally, the barber went up a mountain and almost to the edge of a cliff.',\n",
              " 'He dug a hole in the midst of some reeds.',\n",
              " 'He looked about, to make sure no one was near.']"
            ]
          },
          "metadata": {
            "tags": []
          },
          "execution_count": 23
        }
      ]
    },
    {
      "cell_type": "code",
      "metadata": {
        "id": "LBkJzbNr14aI"
      },
      "source": [
        "from nltk.tokenize import sent_tokenize\n",
        "text=\"I am actively looking for Ph.D. students. and you are a Ph.D student.\""
      ],
      "execution_count": 24,
      "outputs": []
    },
    {
      "cell_type": "code",
      "metadata": {
        "colab": {
          "base_uri": "https://localhost:8080/"
        },
        "id": "djdb5lgI2XgX",
        "outputId": "ed258014-2e27-413a-b9f5-ae68df788e34"
      },
      "source": [
        "result = sent_tokenize(text)\n",
        "result"
      ],
      "execution_count": 25,
      "outputs": [
        {
          "output_type": "execute_result",
          "data": {
            "text/plain": [
              "['I am actively looking for Ph.D. students.', 'and you are a Ph.D student.']"
            ]
          },
          "metadata": {
            "tags": []
          },
          "execution_count": 25
        }
      ]
    },
    {
      "cell_type": "code",
      "metadata": {
        "id": "OYBRz7zM3CTO"
      },
      "source": [
        "import kss # 한국어 토큰화 페키지 중 하나mport kss # 한국어 토큰화 페키지 중 하나\n",
        "text='딥 러닝 자연어 처리가 재미있기는 합니다. 그런데 문제는 영어보다 한국어로 할 때 너무 어려워요. 농담아니에요. 이제 해보면 알걸요?'"
      ],
      "execution_count": 28,
      "outputs": []
    },
    {
      "cell_type": "code",
      "metadata": {
        "colab": {
          "base_uri": "https://localhost:8080/"
        },
        "id": "UIBkE-YS3KO9",
        "outputId": "411f2056-405e-4058-defd-10e03ffe526e"
      },
      "source": [
        "print(kss.split_sentences(text))"
      ],
      "execution_count": 31,
      "outputs": [
        {
          "output_type": "stream",
          "text": [
            "['딥 러닝 자연어 처리가 재미있기는 합니다.', '그런데 문제는 영어보다 한국어로 할 때 너무 어려워요.', '농담아니에요.', '이제 해보면 알걸요?']\n"
          ],
          "name": "stdout"
        }
      ]
    },
    {
      "cell_type": "markdown",
      "metadata": {
        "id": "0JopHXHQ5RUv"
      },
      "source": [
        "---"
      ]
    },
    {
      "cell_type": "markdown",
      "metadata": {
        "id": "QQKxt8zR3ks4"
      },
      "source": [
        "**태깅 기준_1 for english language  : NLTK의 Penn Treebank POS Tags**\n",
        "\n",
        "PRP : 인칭 대명사 \\\n",
        "VBP : 동사 \\\n",
        "RB : 부사 \\\n",
        "VBG : 현재부사 \\\n",
        "IN : 전치사 \\\n",
        "NNP : 고유 명사 \\\n",
        "NNS : 복수형 명사 \\\n",
        "CC : 접속사 \\\n",
        "DT : 관사"
      ]
    },
    {
      "cell_type": "code",
      "metadata": {
        "id": "GCCO0CSr5Qty"
      },
      "source": [
        "from nltk.tag import pos_tag\n",
        "text=\"I am actively looking for Ph.D. students. and you are a Ph.D. student.\"\n",
        "x=word_tokenize(text)"
      ],
      "execution_count": 36,
      "outputs": []
    },
    {
      "cell_type": "code",
      "metadata": {
        "colab": {
          "base_uri": "https://localhost:8080/"
        },
        "id": "gcM1yaI15Z_d",
        "outputId": "8bcc0cae-6232-42ae-d55a-4ca9318d6f25"
      },
      "source": [
        "pos_tag(x)"
      ],
      "execution_count": 37,
      "outputs": [
        {
          "output_type": "execute_result",
          "data": {
            "text/plain": [
              "[('I', 'PRP'),\n",
              " ('am', 'VBP'),\n",
              " ('actively', 'RB'),\n",
              " ('looking', 'VBG'),\n",
              " ('for', 'IN'),\n",
              " ('Ph.D.', 'NNP'),\n",
              " ('students', 'NNS'),\n",
              " ('.', '.'),\n",
              " ('and', 'CC'),\n",
              " ('you', 'PRP'),\n",
              " ('are', 'VBP'),\n",
              " ('a', 'DT'),\n",
              " ('Ph.D.', 'NNP'),\n",
              " ('student', 'NN'),\n",
              " ('.', '.')]"
            ]
          },
          "metadata": {
            "tags": []
          },
          "execution_count": 37
        }
      ]
    },
    {
      "cell_type": "markdown",
      "metadata": {
        "id": "9Blo_Q7i8UIE"
      },
      "source": [
        "**태깅 기준_2 for korean language : konlpy pos** \\\n",
        "morphs : 형태소 추출 \\\n",
        "pos : 품사 태깅(Part-of-speech tagging) \\\n",
        "nouns : 명사 추출"
      ]
    },
    {
      "cell_type": "code",
      "metadata": {
        "id": "dM5sPk0w5t-H"
      },
      "source": [
        "from konlpy.tag import Okt  \n",
        "okt=Okt() \n",
        "text = \"열심히 코딩한 당신, 연휴에는 여행을 가봐요\""
      ],
      "execution_count": 40,
      "outputs": []
    },
    {
      "cell_type": "code",
      "metadata": {
        "colab": {
          "base_uri": "https://localhost:8080/"
        },
        "id": "XABU5uOI7fd6",
        "outputId": "f44e7efa-f74a-47f9-f653-61297881fd58"
      },
      "source": [
        "# 분석도구인 konlpy를 통해, morphs 즉, 형태소 단위로 분석 \n",
        "okt.morphs(\"열심히 코딩한 당신, 연휴에는 여행을 가봐요\")"
      ],
      "execution_count": 43,
      "outputs": [
        {
          "output_type": "execute_result",
          "data": {
            "text/plain": [
              "['열심히', '코딩', '한', '당신', ',', '연휴', '에는', '여행', '을', '가봐요']"
            ]
          },
          "metadata": {
            "tags": []
          },
          "execution_count": 43
        }
      ]
    },
    {
      "cell_type": "code",
      "metadata": {
        "colab": {
          "base_uri": "https://localhost:8080/"
        },
        "id": "5ehzsV9D8BoF",
        "outputId": "5bda03aa-fc4d-4592-e045-65b6bc033474"
      },
      "source": [
        "okt.pos(text)  "
      ],
      "execution_count": 44,
      "outputs": [
        {
          "output_type": "execute_result",
          "data": {
            "text/plain": [
              "[('열심히', 'Adverb'),\n",
              " ('코딩', 'Noun'),\n",
              " ('한', 'Josa'),\n",
              " ('당신', 'Noun'),\n",
              " (',', 'Punctuation'),\n",
              " ('연휴', 'Noun'),\n",
              " ('에는', 'Josa'),\n",
              " ('여행', 'Noun'),\n",
              " ('을', 'Josa'),\n",
              " ('가봐요', 'Verb')]"
            ]
          },
          "metadata": {
            "tags": []
          },
          "execution_count": 44
        }
      ]
    },
    {
      "cell_type": "code",
      "metadata": {
        "colab": {
          "base_uri": "https://localhost:8080/"
        },
        "id": "9Zmf4LD78IeW",
        "outputId": "8a36fc1f-6a36-4290-b835-48b695ba5644"
      },
      "source": [
        "okt.nouns(text)"
      ],
      "execution_count": 45,
      "outputs": [
        {
          "output_type": "execute_result",
          "data": {
            "text/plain": [
              "['코딩', '당신', '연휴', '여행']"
            ]
          },
          "metadata": {
            "tags": []
          },
          "execution_count": 45
        }
      ]
    },
    {
      "cell_type": "code",
      "metadata": {
        "id": "wwFtaLAA8Nif"
      },
      "source": [
        "from konlpy.tag import Kkma  \n",
        "kkma=Kkma()  "
      ],
      "execution_count": 47,
      "outputs": []
    },
    {
      "cell_type": "code",
      "metadata": {
        "colab": {
          "base_uri": "https://localhost:8080/"
        },
        "id": "DIXGm6XK85g6",
        "outputId": "03f79b4e-0ade-4803-fe7d-876a910e983f"
      },
      "source": [
        "kkma.morphs(text)"
      ],
      "execution_count": 48,
      "outputs": [
        {
          "output_type": "execute_result",
          "data": {
            "text/plain": [
              "['열심히', '코딩', '하', 'ㄴ', '당신', ',', '연휴', '에', '는', '여행', '을', '가보', '아요']"
            ]
          },
          "metadata": {
            "tags": []
          },
          "execution_count": 48
        }
      ]
    },
    {
      "cell_type": "code",
      "metadata": {
        "colab": {
          "base_uri": "https://localhost:8080/"
        },
        "id": "LfcjMiSw88Ke",
        "outputId": "21b21144-96f3-455c-db7e-bc7709070e70"
      },
      "source": [
        "kkma.pos(text)"
      ],
      "execution_count": 49,
      "outputs": [
        {
          "output_type": "execute_result",
          "data": {
            "text/plain": [
              "[('열심히', 'MAG'),\n",
              " ('코딩', 'NNG'),\n",
              " ('하', 'XSV'),\n",
              " ('ㄴ', 'ETD'),\n",
              " ('당신', 'NP'),\n",
              " (',', 'SP'),\n",
              " ('연휴', 'NNG'),\n",
              " ('에', 'JKM'),\n",
              " ('는', 'JX'),\n",
              " ('여행', 'NNG'),\n",
              " ('을', 'JKO'),\n",
              " ('가보', 'VV'),\n",
              " ('아요', 'EFN')]"
            ]
          },
          "metadata": {
            "tags": []
          },
          "execution_count": 49
        }
      ]
    },
    {
      "cell_type": "code",
      "metadata": {
        "colab": {
          "base_uri": "https://localhost:8080/"
        },
        "id": "ouAwI07s9Hu-",
        "outputId": "e04d4323-8d3c-4ed5-c3d2-227c3f79df14"
      },
      "source": [
        "kkma.nouns(text)"
      ],
      "execution_count": 50,
      "outputs": [
        {
          "output_type": "execute_result",
          "data": {
            "text/plain": [
              "['코딩', '당신', '연휴', '여행']"
            ]
          },
          "metadata": {
            "tags": []
          },
          "execution_count": 50
        }
      ]
    }
  ]
}