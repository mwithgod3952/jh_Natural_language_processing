{
  "nbformat": 4,
  "nbformat_minor": 0,
  "metadata": {
    "colab": {
      "name": "정수인코딩(Integer Encoding)",
      "provenance": [],
      "collapsed_sections": [],
      "authorship_tag": "ABX9TyM3ULYPwsYnGyg5ghOrzSnF",
      "include_colab_link": true
    },
    "kernelspec": {
      "name": "python3",
      "display_name": "Python 3"
    },
    "language_info": {
      "name": "python"
    }
  },
  "cells": [
    {
      "cell_type": "markdown",
      "metadata": {
        "id": "view-in-github",
        "colab_type": "text"
      },
      "source": [
        "<a href=\"https://colab.research.google.com/github/mwithgod3952/jh_Natural_language_processing/blob/main/%EC%A0%95%EC%88%98%EC%9D%B8%EC%BD%94%EB%94%A9(Integer_Encoding).ipynb\" target=\"_parent\"><img src=\"https://colab.research.google.com/assets/colab-badge.svg\" alt=\"Open In Colab\"/></a>"
      ]
    },
    {
      "cell_type": "markdown",
      "metadata": {
        "id": "SVYnlHLjFNFz"
      },
      "source": [
        "**정수 인코딩(Integer Encoding)** \n",
        "\n",
        "      - 목적 : Computation \n",
        "      - 단위 : 단어\n",
        "\n",
        "      - 각 단어를 고유한 정수에 맵핑(mapping)\n",
        "      - 인덱스를 부여하는 방법\n",
        "                * 랜덤으로 부여\n",
        "                * 단어에 대한 빈도수를 기준으로 정렬\n",
        "\n",
        "+a 용어 :\n",
        "\n",
        "      - 불용어 : stopwords (조사, 접미사 같은 단어들) \n",
        "      - 불용어 제거 : 갖고 있는 데이터에서 유의미한 단어 토큰만을 선별하기 위해서는 큰 의미가 없는 단어 토큰을 제거하는 작업"
      ]
    },
    {
      "cell_type": "code",
      "metadata": {
        "colab": {
          "base_uri": "https://localhost:8080/"
        },
        "id": "WPXX2RPm6QZo",
        "outputId": "57049597-548a-4ade-8a37-384178d47d73"
      },
      "source": [
        "import nltk \n",
        "nltk.download('punkt')\n",
        "nltk.download('stopwords')\n",
        "\n",
        "from nltk.tokenize import sent_tokenize\n",
        "from nltk.tokenize import word_tokenize\n",
        "from nltk.corpus import stopwords"
      ],
      "execution_count": 31,
      "outputs": [
        {
          "output_type": "stream",
          "text": [
            "[nltk_data] Downloading package punkt to /root/nltk_data...\n",
            "[nltk_data]   Package punkt is already up-to-date!\n",
            "[nltk_data] Downloading package stopwords to /root/nltk_data...\n",
            "[nltk_data]   Package stopwords is already up-to-date!\n"
          ],
          "name": "stdout"
        }
      ]
    },
    {
      "cell_type": "markdown",
      "metadata": {
        "id": "gq2k0ANXwhkj"
      },
      "source": [
        " Indexing method_1 :   \n",
        "\n",
        "      - 빈도수 순으로 정렬한 단어 집합(vocabulary) 생성 > 내림차순으로 정수 부여 \n",
        "\n",
        "              절차 :\n",
        "              1. 문장단위로 토큰화 (활용함수 : sent_tokenize)\n",
        "              2. 미리 정리된 불용어 리스트 불러오기 (활용함수 : stop_words)\n",
        "              3. 불용어를 제외한 단어와, 각 빈도수를 기준으로 정수를 매핑(활용방안 : dictionary)"
      ]
    },
    {
      "cell_type": "code",
      "metadata": {
        "id": "2aemEaxqFsE_"
      },
      "source": [
        "text = \"A barber is a person. a barber is good person. a barber is huge person. he Knew A Secret! The Secret He Kept is huge secret. Huge secret. His barber kept his word. a barber kept his word. His barber kept his secret. But keeping and keeping such a huge secret to himself was driving the barber crazy. the barber went up a huge mountain.\""
      ],
      "execution_count": 19,
      "outputs": []
    },
    {
      "cell_type": "code",
      "metadata": {
        "colab": {
          "base_uri": "https://localhost:8080/"
        },
        "id": "WnvqpMw9KPif",
        "outputId": "7eff9983-1c9c-4a42-d418-dfafc145eeca"
      },
      "source": [
        "# Step 1\n",
        "# 문장단위로 토큰화 (영어)\n",
        "result = sent_tokenize(text)\n",
        "result"
      ],
      "execution_count": 20,
      "outputs": [
        {
          "output_type": "execute_result",
          "data": {
            "text/plain": [
              "['A barber is a person.',\n",
              " 'a barber is good person.',\n",
              " 'a barber is huge person.',\n",
              " 'he Knew A Secret!',\n",
              " 'The Secret He Kept is huge secret.',\n",
              " 'Huge secret.',\n",
              " 'His barber kept his word.',\n",
              " 'a barber kept his word.',\n",
              " 'His barber kept his secret.',\n",
              " 'But keeping and keeping such a huge secret to himself was driving the barber crazy.',\n",
              " 'the barber went up a huge mountain.']"
            ]
          },
          "metadata": {
            "tags": []
          },
          "execution_count": 20
        }
      ]
    },
    {
      "cell_type": "code",
      "metadata": {
        "id": "RNbiXxDsKgc2"
      },
      "source": [
        "# NLTK가 정의한 영어 불용어 리스트를 set 즉, 결합합\n",
        "stop_words = set(stopwords.words('english'))"
      ],
      "execution_count": 21,
      "outputs": []
    },
    {
      "cell_type": "code",
      "metadata": {
        "colab": {
          "base_uri": "https://localhost:8080/"
        },
        "id": "0jCikad5MNOR",
        "outputId": "a4e6a197-5aca-45a7-e54d-da10011b453b"
      },
      "source": [
        "stop_words, len(stop_words) \n",
        "#  179개의 불용어가 불러와짐짐"
      ],
      "execution_count": 22,
      "outputs": [
        {
          "output_type": "execute_result",
          "data": {
            "text/plain": [
              "({'a',\n",
              "  'about',\n",
              "  'above',\n",
              "  'after',\n",
              "  'again',\n",
              "  'against',\n",
              "  'ain',\n",
              "  'all',\n",
              "  'am',\n",
              "  'an',\n",
              "  'and',\n",
              "  'any',\n",
              "  'are',\n",
              "  'aren',\n",
              "  \"aren't\",\n",
              "  'as',\n",
              "  'at',\n",
              "  'be',\n",
              "  'because',\n",
              "  'been',\n",
              "  'before',\n",
              "  'being',\n",
              "  'below',\n",
              "  'between',\n",
              "  'both',\n",
              "  'but',\n",
              "  'by',\n",
              "  'can',\n",
              "  'couldn',\n",
              "  \"couldn't\",\n",
              "  'd',\n",
              "  'did',\n",
              "  'didn',\n",
              "  \"didn't\",\n",
              "  'do',\n",
              "  'does',\n",
              "  'doesn',\n",
              "  \"doesn't\",\n",
              "  'doing',\n",
              "  'don',\n",
              "  \"don't\",\n",
              "  'down',\n",
              "  'during',\n",
              "  'each',\n",
              "  'few',\n",
              "  'for',\n",
              "  'from',\n",
              "  'further',\n",
              "  'had',\n",
              "  'hadn',\n",
              "  \"hadn't\",\n",
              "  'has',\n",
              "  'hasn',\n",
              "  \"hasn't\",\n",
              "  'have',\n",
              "  'haven',\n",
              "  \"haven't\",\n",
              "  'having',\n",
              "  'he',\n",
              "  'her',\n",
              "  'here',\n",
              "  'hers',\n",
              "  'herself',\n",
              "  'him',\n",
              "  'himself',\n",
              "  'his',\n",
              "  'how',\n",
              "  'i',\n",
              "  'if',\n",
              "  'in',\n",
              "  'into',\n",
              "  'is',\n",
              "  'isn',\n",
              "  \"isn't\",\n",
              "  'it',\n",
              "  \"it's\",\n",
              "  'its',\n",
              "  'itself',\n",
              "  'just',\n",
              "  'll',\n",
              "  'm',\n",
              "  'ma',\n",
              "  'me',\n",
              "  'mightn',\n",
              "  \"mightn't\",\n",
              "  'more',\n",
              "  'most',\n",
              "  'mustn',\n",
              "  \"mustn't\",\n",
              "  'my',\n",
              "  'myself',\n",
              "  'needn',\n",
              "  \"needn't\",\n",
              "  'no',\n",
              "  'nor',\n",
              "  'not',\n",
              "  'now',\n",
              "  'o',\n",
              "  'of',\n",
              "  'off',\n",
              "  'on',\n",
              "  'once',\n",
              "  'only',\n",
              "  'or',\n",
              "  'other',\n",
              "  'our',\n",
              "  'ours',\n",
              "  'ourselves',\n",
              "  'out',\n",
              "  'over',\n",
              "  'own',\n",
              "  're',\n",
              "  's',\n",
              "  'same',\n",
              "  'shan',\n",
              "  \"shan't\",\n",
              "  'she',\n",
              "  \"she's\",\n",
              "  'should',\n",
              "  \"should've\",\n",
              "  'shouldn',\n",
              "  \"shouldn't\",\n",
              "  'so',\n",
              "  'some',\n",
              "  'such',\n",
              "  't',\n",
              "  'than',\n",
              "  'that',\n",
              "  \"that'll\",\n",
              "  'the',\n",
              "  'their',\n",
              "  'theirs',\n",
              "  'them',\n",
              "  'themselves',\n",
              "  'then',\n",
              "  'there',\n",
              "  'these',\n",
              "  'they',\n",
              "  'this',\n",
              "  'those',\n",
              "  'through',\n",
              "  'to',\n",
              "  'too',\n",
              "  'under',\n",
              "  'until',\n",
              "  'up',\n",
              "  've',\n",
              "  'very',\n",
              "  'was',\n",
              "  'wasn',\n",
              "  \"wasn't\",\n",
              "  'we',\n",
              "  'were',\n",
              "  'weren',\n",
              "  \"weren't\",\n",
              "  'what',\n",
              "  'when',\n",
              "  'where',\n",
              "  'which',\n",
              "  'while',\n",
              "  'who',\n",
              "  'whom',\n",
              "  'why',\n",
              "  'will',\n",
              "  'with',\n",
              "  'won',\n",
              "  \"won't\",\n",
              "  'wouldn',\n",
              "  \"wouldn't\",\n",
              "  'y',\n",
              "  'you',\n",
              "  \"you'd\",\n",
              "  \"you'll\",\n",
              "  \"you're\",\n",
              "  \"you've\",\n",
              "  'your',\n",
              "  'yours',\n",
              "  'yourself',\n",
              "  'yourselves'},\n",
              " 179)"
            ]
          },
          "metadata": {
            "tags": []
          },
          "execution_count": 22
        }
      ]
    },
    {
      "cell_type": "markdown",
      "metadata": {
        "id": "2LCCIogUx9Vc"
      },
      "source": [
        "---"
      ]
    },
    {
      "cell_type": "markdown",
      "metadata": {
        "id": "3eMKkiHgyGMY"
      },
      "source": [
        "함수활용 연구"
      ]
    },
    {
      "cell_type": "code",
      "metadata": {
        "colab": {
          "base_uri": "https://localhost:8080/"
        },
        "id": "JtumoyhpSxtP",
        "outputId": "10224522-d379-4dee-ee74-aa3a3211f7c5"
      },
      "source": [
        "word_tokenize('A barber is a person.')"
      ],
      "execution_count": null,
      "outputs": [
        {
          "output_type": "execute_result",
          "data": {
            "text/plain": [
              "['A', 'barber', 'is', 'a', 'person', '.']"
            ]
          },
          "metadata": {
            "tags": []
          },
          "execution_count": 50
        }
      ]
    },
    {
      "cell_type": "code",
      "metadata": {
        "id": "rI8p19wvUm8m"
      },
      "source": [
        "a = {}\n",
        "if 'd' not in a:\n",
        "  a['d'] = 0\n",
        "a['d'] += 1"
      ],
      "execution_count": null,
      "outputs": []
    },
    {
      "cell_type": "code",
      "metadata": {
        "colab": {
          "base_uri": "https://localhost:8080/"
        },
        "id": "dWhzOiu_Vswe",
        "outputId": "9e9e73c1-0b4c-42d6-e868-4aa0f4bb2068"
      },
      "source": [
        "a"
      ],
      "execution_count": null,
      "outputs": [
        {
          "output_type": "execute_result",
          "data": {
            "text/plain": [
              "{'d': 1}"
            ]
          },
          "metadata": {
            "tags": []
          },
          "execution_count": 60
        }
      ]
    },
    {
      "cell_type": "code",
      "metadata": {
        "colab": {
          "base_uri": "https://localhost:8080/"
        },
        "id": "XBFaMMwOYRTX",
        "outputId": "03e48702-e5e5-4438-d7d0-9be7d7fb157d"
      },
      "source": [
        "a['d'] += 1\n",
        "a"
      ],
      "execution_count": null,
      "outputs": [
        {
          "output_type": "execute_result",
          "data": {
            "text/plain": [
              "{'d': 2}"
            ]
          },
          "metadata": {
            "tags": []
          },
          "execution_count": 61
        }
      ]
    },
    {
      "cell_type": "markdown",
      "metadata": {
        "id": "7jHRI3GbyCnd"
      },
      "source": [
        "---"
      ]
    },
    {
      "cell_type": "code",
      "metadata": {
        "colab": {
          "base_uri": "https://localhost:8080/"
        },
        "id": "QG-FKxoGMcXL",
        "outputId": "b1780fca-e706-4c3c-9865-eebdc5f4a981"
      },
      "source": [
        "vocab = {}\n",
        "sentences = []\n",
        "stop_words = set(stopwords.words('english'))\n",
        "\n",
        "for i in result:\n",
        "  # 토큰화\n",
        "    sentence = word_tokenize(i) \n",
        "    # ex) word_tokenize('A barber is a person.') = ['A', 'barber', 'is', 'a', 'person', '.']\n",
        "    result = []\n",
        "\n",
        "    for word in sentence: \n",
        "      # 대소문자를 구분함, 그러므로 소문자로 변경\n",
        "        word = word.lower() \n",
        "        # 만약 불용어가 아니라면\n",
        "        if word not in stop_words:\n",
        "          #  만약 단어의 길이가 2보다 크다면\n",
        "            if len(word) > 2: \n",
        "              # 불용어가 아님을 구분한 리스트로 resullt에 append\n",
        "                result.append(word)\n",
        "                # {'d': 0, 'i': 1} 특정 word 에 번호가 차례로 할당됨, 동시에 \n",
        "                if word not in vocab:\n",
        "                    vocab[word] = 0 \n",
        "                vocab[word] += 1\n",
        "    sentences.append(result) \n",
        "sentences"
      ],
      "execution_count": 23,
      "outputs": [
        {
          "output_type": "execute_result",
          "data": {
            "text/plain": [
              "[['barber', 'person'],\n",
              " ['barber', 'good', 'person'],\n",
              " ['barber', 'huge', 'person'],\n",
              " ['knew', 'secret'],\n",
              " ['secret', 'kept', 'huge', 'secret'],\n",
              " ['huge', 'secret'],\n",
              " ['barber', 'kept', 'word'],\n",
              " ['barber', 'kept', 'word'],\n",
              " ['barber', 'kept', 'secret'],\n",
              " ['keeping', 'keeping', 'huge', 'secret', 'driving', 'barber', 'crazy'],\n",
              " ['barber', 'went', 'huge', 'mountain']]"
            ]
          },
          "metadata": {
            "tags": []
          },
          "execution_count": 23
        }
      ]
    },
    {
      "cell_type": "code",
      "metadata": {
        "colab": {
          "base_uri": "https://localhost:8080/"
        },
        "id": "Gm564dTnOEtb",
        "outputId": "a2bd46f0-8277-49ae-aa16-398f93f40b63"
      },
      "source": [
        "# 각기 다른 문장 중 같은 단어가 반복됨에 따라 단어의 빈도수를 책정 각기 다른 문장 중 같은 단어가 반복됨에 따라 단어의 빈도수를 책정\n",
        "vocab\n",
        "vocab"
      ],
      "execution_count": 24,
      "outputs": [
        {
          "output_type": "execute_result",
          "data": {
            "text/plain": [
              "{'barber': 8,\n",
              " 'crazy': 1,\n",
              " 'driving': 1,\n",
              " 'good': 1,\n",
              " 'huge': 5,\n",
              " 'keeping': 2,\n",
              " 'kept': 4,\n",
              " 'knew': 1,\n",
              " 'mountain': 1,\n",
              " 'person': 3,\n",
              " 'secret': 6,\n",
              " 'went': 1,\n",
              " 'word': 2}"
            ]
          },
          "metadata": {
            "tags": []
          },
          "execution_count": 24
        }
      ]
    },
    {
      "cell_type": "code",
      "metadata": {
        "colab": {
          "base_uri": "https://localhost:8080/"
        },
        "id": "u0xGYlX1XpxJ",
        "outputId": "3a05480a-1d67-42c6-dca6-6aad01bcad25"
      },
      "source": [
        "# + sorted의 key 함수는 빈도수를 기준으로 하겠다는 지정 component\n",
        "vocab_sorted = sorted(vocab.items(), key = lambda x:x[1], reverse = True)\n",
        "vocab_sorted"
      ],
      "execution_count": 25,
      "outputs": [
        {
          "output_type": "execute_result",
          "data": {
            "text/plain": [
              "[('barber', 8),\n",
              " ('secret', 6),\n",
              " ('huge', 5),\n",
              " ('kept', 4),\n",
              " ('person', 3),\n",
              " ('word', 2),\n",
              " ('keeping', 2),\n",
              " ('good', 1),\n",
              " ('knew', 1),\n",
              " ('driving', 1),\n",
              " ('crazy', 1),\n",
              " ('went', 1),\n",
              " ('mountain', 1)]"
            ]
          },
          "metadata": {
            "tags": []
          },
          "execution_count": 25
        }
      ]
    },
    {
      "cell_type": "markdown",
      "metadata": {
        "id": "3hh1eMhS1Poh"
      },
      "source": [
        "  - 전처리, 빈도수가 적은 단어를 제외\n",
        "\n",
        "          * 단어의 빈도수를 알 경우에만 할 수 있음 \n",
        "          * 등장 빈도가 낮은 단어는 자연어 처리에서 의미를 가지지 않을 가능성이 높음"
      ]
    },
    {
      "cell_type": "code",
      "metadata": {
        "colab": {
          "base_uri": "https://localhost:8080/"
        },
        "id": "ovpK309FZIEO",
        "outputId": "c5582876-6a82-49a2-df2e-53a47cbae259"
      },
      "source": [
        "word_to_index = {}\n",
        "i=0\n",
        "for (word, frequency) in vocab_sorted :\n",
        "  # 정제(Cleaning) : 빈도수가 적은 단어는 제외한다.\n",
        "    if frequency > 1 : \n",
        "        i=i+1\n",
        "        word_to_index[word] = i\n",
        "print(word_to_index)"
      ],
      "execution_count": 26,
      "outputs": [
        {
          "output_type": "stream",
          "text": [
            "{'barber': 1, 'secret': 2, 'huge': 3, 'kept': 4, 'person': 5, 'word': 6, 'keeping': 7}\n"
          ],
          "name": "stdout"
        }
      ]
    },
    {
      "cell_type": "code",
      "metadata": {
        "id": "QUKE_cZPZt-C",
        "colab": {
          "base_uri": "https://localhost:8080/"
        },
        "outputId": "8b406053-24c2-4580-e4e7-e9de81105a48"
      },
      "source": [
        "vocab_size = 5\n",
        "words_frequency = [w for w,c in word_to_index.items() if c >= vocab_size + 1] # 인덱스가 5 초과인 단어 제거\n",
        "words_frequency"
      ],
      "execution_count": 27,
      "outputs": [
        {
          "output_type": "execute_result",
          "data": {
            "text/plain": [
              "['word', 'keeping']"
            ]
          },
          "metadata": {
            "tags": []
          },
          "execution_count": 27
        }
      ]
    },
    {
      "cell_type": "markdown",
      "metadata": {
        "id": "vAyUXYpT2a8Z"
      },
      "source": [
        "이제 하단과 같이 빈도수가 작은 하위 두개의 단어인 ''word'와 'keeping'은 제거되었고, 빈도수가 높은 상위 5개의 단어만 저장되었다."
      ]
    },
    {
      "cell_type": "code",
      "metadata": {
        "colab": {
          "base_uri": "https://localhost:8080/"
        },
        "id": "DbhFPG-f2Kr_",
        "outputId": "25985934-02ad-4ce7-c407-6899d56cf4d0"
      },
      "source": [
        "for w in words_frequency:\n",
        "    del word_to_index[w] \n",
        "print(word_to_index)"
      ],
      "execution_count": 28,
      "outputs": [
        {
          "output_type": "stream",
          "text": [
            "{'barber': 1, 'secret': 2, 'huge': 3, 'kept': 4, 'person': 5}\n"
          ],
          "name": "stdout"
        }
      ]
    },
    {
      "cell_type": "markdown",
      "metadata": {
        "id": "24ELoQrs2X4k"
      },
      "source": [
        "단어를 정수로 바꾸기\n",
        "\n",
        "    St1 : 빈도수를 통해 도출한 정수를 통해 인코딩 진행\n",
        "    St2 : OOV (Out-Of-Vocabulary)\n",
        "                  > 빈도수가 낮아 제거된 '단어'에 대해 OOV 지정"
      ]
    },
    {
      "cell_type": "code",
      "metadata": {
        "colab": {
          "base_uri": "https://localhost:8080/"
        },
        "id": "55Nw1HZG3hYb",
        "outputId": "2b0a1ba0-43b0-4001-875d-48bcee56df6e"
      },
      "source": [
        "word_to_index['OOV'] = len(word_to_index) + 1\n",
        "print(word_to_index)"
      ],
      "execution_count": 29,
      "outputs": [
        {
          "output_type": "stream",
          "text": [
            "{'barber': 1, 'secret': 2, 'huge': 3, 'kept': 4, 'person': 5, 'OOV': 6}\n"
          ],
          "name": "stdout"
        }
      ]
    },
    {
      "cell_type": "code",
      "metadata": {
        "colab": {
          "base_uri": "https://localhost:8080/"
        },
        "id": "I9w5RZS04IeV",
        "outputId": "ce02dece-5ec5-4784-b37a-59d8d592957c"
      },
      "source": [
        "# sentences = \n",
        "\n",
        "# [['barber', 'person'],\n",
        "#  ['barber', 'good', 'person'],\n",
        "#  ['barber', 'huge', 'person'],\n",
        "#  ['knew', 'secret'],\n",
        "#  ['secret', 'kept', 'huge', 'secret'],\n",
        "#  ['huge', 'secret'],\n",
        "#  ['barber', 'kept', 'word'],\n",
        "#  ['barber', 'kept', 'word'],\n",
        "#  ['barber', 'kept', 'secret'],\n",
        "#  ['keeping', 'keeping', 'huge', 'secret', 'driving', 'barber', 'crazy'],\n",
        "#  ['barber', 'went', 'huge', 'mountain']]\n",
        "\n",
        "encoded = []\n",
        "for s in sentences:\n",
        "  temp = []\n",
        "  for w in s:\n",
        "    try:\n",
        "      temp.append(word_to_index[w])\n",
        "    except KeyError:\n",
        "      temp.append(word_to_index['OOV'])\n",
        "    encoded.append(temp)\n",
        "print(encoded)    "
      ],
      "execution_count": 30,
      "outputs": [
        {
          "output_type": "stream",
          "text": [
            "[[1, 5], [1, 5], [1, 6, 5], [1, 6, 5], [1, 6, 5], [1, 3, 5], [1, 3, 5], [1, 3, 5], [6, 2], [6, 2], [2, 4, 3, 2], [2, 4, 3, 2], [2, 4, 3, 2], [2, 4, 3, 2], [3, 2], [3, 2], [1, 4, 6], [1, 4, 6], [1, 4, 6], [1, 4, 6], [1, 4, 6], [1, 4, 6], [1, 4, 2], [1, 4, 2], [1, 4, 2], [6, 6, 3, 2, 6, 1, 6], [6, 6, 3, 2, 6, 1, 6], [6, 6, 3, 2, 6, 1, 6], [6, 6, 3, 2, 6, 1, 6], [6, 6, 3, 2, 6, 1, 6], [6, 6, 3, 2, 6, 1, 6], [6, 6, 3, 2, 6, 1, 6], [1, 6, 3, 6], [1, 6, 3, 6], [1, 6, 3, 6], [1, 6, 3, 6]]\n"
          ],
          "name": "stdout"
        }
      ]
    },
    {
      "cell_type": "markdown",
      "metadata": {
        "id": "kquwx5J16GcY"
      },
      "source": [
        "Indexing method_2 :\n",
        "\n",
        "      - Counter \n",
        "      - FreqDist \n",
        "      - enumerate or Keras Tokenizaer"
      ]
    },
    {
      "cell_type": "markdown",
      "metadata": {
        "id": "F_xNKnAS6o7N"
      },
      "source": [
        "***2-1. Counter***"
      ]
    },
    {
      "cell_type": "code",
      "metadata": {
        "id": "9V6Wen0l63NA"
      },
      "source": [
        "from collections import Counter"
      ],
      "execution_count": 32,
      "outputs": []
    },
    {
      "cell_type": "markdown",
      "metadata": {
        "id": "QeBBQQHj7l_z"
      },
      "source": [
        "- 문장의 경계인 [, ]를 제거\n",
        "- 단어들을 하나의 리스트로 만들기"
      ]
    },
    {
      "cell_type": "code",
      "metadata": {
        "colab": {
          "base_uri": "https://localhost:8080/"
        },
        "id": "JFaDDRHt66PX",
        "outputId": "500ee505-4ac7-42e3-d239-b80657252fcb"
      },
      "source": [
        "words = sum(sentences, [])\n",
        "print(words)"
      ],
      "execution_count": 33,
      "outputs": [
        {
          "output_type": "stream",
          "text": [
            "['barber', 'person', 'barber', 'good', 'person', 'barber', 'huge', 'person', 'knew', 'secret', 'secret', 'kept', 'huge', 'secret', 'huge', 'secret', 'barber', 'kept', 'word', 'barber', 'kept', 'word', 'barber', 'kept', 'secret', 'keeping', 'keeping', 'huge', 'secret', 'driving', 'barber', 'crazy', 'barber', 'went', 'huge', 'mountain']\n"
          ],
          "name": "stdout"
        }
      ]
    },
    {
      "cell_type": "markdown",
      "metadata": {
        "id": "3v3IihOs7L9J"
      },
      "source": [
        "Or"
      ]
    },
    {
      "cell_type": "code",
      "metadata": {
        "colab": {
          "base_uri": "https://localhost:8080/"
        },
        "id": "WTZqq81-7N90",
        "outputId": "7f573d28-2c6d-4883-a7c3-20b01555979f"
      },
      "source": [
        "import numpy as np\n",
        "np.hstacnp.hstack(sentences)k(sentences)"
      ],
      "execution_count": 35,
      "outputs": [
        {
          "output_type": "execute_result",
          "data": {
            "text/plain": [
              "array(['barber', 'person', 'barber', 'good', 'person', 'barber', 'huge',\n",
              "       'person', 'knew', 'secret', 'secret', 'kept', 'huge', 'secret',\n",
              "       'huge', 'secret', 'barber', 'kept', 'word', 'barber', 'kept',\n",
              "       'word', 'barber', 'kept', 'secret', 'keeping', 'keeping', 'huge',\n",
              "       'secret', 'driving', 'barber', 'crazy', 'barber', 'went', 'huge',\n",
              "       'mountain'], dtype='<U8')"
            ]
          },
          "metadata": {
            "tags": []
          },
          "execution_count": 35
        }
      ]
    },
    {
      "cell_type": "markdown",
      "metadata": {
        "id": "WihDnGaQ8EF7"
      },
      "source": [
        "- 단어를 키(key)로, 단어에 대한 빈도수가 값(value)으로 저장"
      ]
    },
    {
      "cell_type": "code",
      "metadata": {
        "colab": {
          "base_uri": "https://localhost:8080/"
        },
        "id": "FfXJHQ_z7bc1",
        "outputId": "a9371434-3227-4e93-deab-87cd29795db2"
      },
      "source": [
        "vocab = Counter(words)\n",
        "print(vocab)"
      ],
      "execution_count": 37,
      "outputs": [
        {
          "output_type": "stream",
          "text": [
            "Counter({'barber': 8, 'secret': 6, 'huge': 5, 'kept': 4, 'person': 3, 'word': 2, 'keeping': 2, 'good': 1, 'knew': 1, 'driving': 1, 'crazy': 1, 'went': 1, 'mountain': 1})\n"
          ],
          "name": "stdout"
        }
      ]
    },
    {
      "cell_type": "code",
      "metadata": {
        "colab": {
          "base_uri": "https://localhost:8080/"
        },
        "id": "LpUOLN4R77Gc",
        "outputId": "3df7dfc4-384e-4567-ea57-865a0c3f033d"
      },
      "source": [
        "vocab_size = 5\n",
        "vocab = vocab.most_common(vocab_size)\n",
        "vocab"
      ],
      "execution_count": 38,
      "outputs": [
        {
          "output_type": "execute_result",
          "data": {
            "text/plain": [
              "[('barber', 8), ('secret', 6), ('huge', 5), ('kept', 4), ('person', 3)]"
            ]
          },
          "metadata": {
            "tags": []
          },
          "execution_count": 38
        }
      ]
    },
    {
      "cell_type": "code",
      "metadata": {
        "colab": {
          "base_uri": "https://localhost:8080/"
        },
        "id": "8Xz4y6eK8lT7",
        "outputId": "dab78297-59a0-44ba-80ad-1f4ddb3f6459"
      },
      "source": [
        "word_to_index = {}\n",
        "i = 0\n",
        "for (word, frequency) in vocab:\n",
        "  i = i+1\n",
        "  word_to_index[word] = i\n",
        "print(word_to_index)  "
      ],
      "execution_count": 40,
      "outputs": [
        {
          "output_type": "stream",
          "text": [
            "{'barber': 1, 'secret': 2, 'huge': 3, 'kept': 4, 'person': 5}\n"
          ],
          "name": "stdout"
        }
      ]
    },
    {
      "cell_type": "markdown",
      "metadata": {
        "id": "70C1IkvP9TxD"
      },
      "source": [
        "***2-2. NLTK Freq Dist***"
      ]
    },
    {
      "cell_type": "code",
      "metadata": {
        "id": "qPwadHsR9jZS"
      },
      "source": [
        "from nltk import FreqDist\n",
        "import numpy as np"
      ],
      "execution_count": 41,
      "outputs": []
    },
    {
      "cell_type": "code",
      "metadata": {
        "colab": {
          "base_uri": "https://localhost:8080/"
        },
        "id": "dKdaB6ZK_3vX",
        "outputId": "2cad2c7c-7d4c-40b7-b8d9-1038016f622e"
      },
      "source": [
        "a = np.hstack(sentences)\n",
        "a"
      ],
      "execution_count": 43,
      "outputs": [
        {
          "output_type": "execute_result",
          "data": {
            "text/plain": [
              "array(['barber', 'person', 'barber', 'good', 'person', 'barber', 'huge',\n",
              "       'person', 'knew', 'secret', 'secret', 'kept', 'huge', 'secret',\n",
              "       'huge', 'secret', 'barber', 'kept', 'word', 'barber', 'kept',\n",
              "       'word', 'barber', 'kept', 'secret', 'keeping', 'keeping', 'huge',\n",
              "       'secret', 'driving', 'barber', 'crazy', 'barber', 'went', 'huge',\n",
              "       'mountain'], dtype='<U8')"
            ]
          },
          "metadata": {
            "tags": []
          },
          "execution_count": 43
        }
      ]
    },
    {
      "cell_type": "code",
      "metadata": {
        "colab": {
          "base_uri": "https://localhost:8080/"
        },
        "id": "sXElAd-8APq3",
        "outputId": "1e8377b7-6dc9-4c65-a299-a1003176a5aa"
      },
      "source": [
        "vocab = FreqDist(a)\n",
        "vocab"
      ],
      "execution_count": 44,
      "outputs": [
        {
          "output_type": "execute_result",
          "data": {
            "text/plain": [
              "FreqDist({'barber': 8,\n",
              "          'crazy': 1,\n",
              "          'driving': 1,\n",
              "          'good': 1,\n",
              "          'huge': 5,\n",
              "          'keeping': 2,\n",
              "          'kept': 4,\n",
              "          'knew': 1,\n",
              "          'mountain': 1,\n",
              "          'person': 3,\n",
              "          'secret': 6,\n",
              "          'went': 1,\n",
              "          'word': 2})"
            ]
          },
          "metadata": {
            "tags": []
          },
          "execution_count": 44
        }
      ]
    },
    {
      "cell_type": "code",
      "metadata": {
        "colab": {
          "base_uri": "https://localhost:8080/"
        },
        "id": "79INb0Z2AWyG",
        "outputId": "222062a1-22ca-4da5-cb82-ef6b11ce92c2"
      },
      "source": [
        "vocab_size = 5\n",
        "vocab = vocab.most_common(vocab_size) \n",
        "vocab"
      ],
      "execution_count": 45,
      "outputs": [
        {
          "output_type": "execute_result",
          "data": {
            "text/plain": [
              "[('barber', 8), ('secret', 6), ('huge', 5), ('kept', 4), ('person', 3)]"
            ]
          },
          "metadata": {
            "tags": []
          },
          "execution_count": 45
        }
      ]
    },
    {
      "cell_type": "code",
      "metadata": {
        "colab": {
          "base_uri": "https://localhost:8080/"
        },
        "id": "mrqYrfM4Av1D",
        "outputId": "645848fc-6a73-4510-98cd-9c0f4322f37b"
      },
      "source": [
        "# enumerate\n",
        "word_to_index = {word[0] : index+1 for index, word in enumerate(vocab)}\n",
        "print(word_to_index)"
      ],
      "execution_count": 46,
      "outputs": [
        {
          "output_type": "stream",
          "text": [
            "{'barber': 1, 'secret': 2, 'huge': 3, 'kept': 4, 'person': 5}\n"
          ],
          "name": "stdout"
        }
      ]
    },
    {
      "cell_type": "markdown",
      "metadata": {
        "id": "qxA7LjgSD66r"
      },
      "source": [
        "***Keras 텍스트 전처리***"
      ]
    },
    {
      "cell_type": "code",
      "metadata": {
        "id": "f4TeeSRIAiNY"
      },
      "source": [
        "from tensorflow.keras.preprocessing.text import Tokenizer"
      ],
      "execution_count": 47,
      "outputs": []
    },
    {
      "cell_type": "code",
      "metadata": {
        "id": "bvf8W5ypEyAF"
      },
      "source": [
        "# sentences = \n",
        "\n",
        "# [['barber', 'person'],\n",
        "#  ['barber', 'good', 'person'],\n",
        "#  ['barber', 'huge', 'person'],\n",
        "#  ['knew', 'secret'],\n",
        "#  ['secret', 'kept', 'huge', 'secret'],\n",
        "#  ['huge', 'secret'],\n",
        "#  ['barber', 'kept', 'word'],\n",
        "#  ['barber', 'kept', 'word'],\n",
        "#  ['barber', 'kept', 'secret'],\n",
        "#  ['keeping', 'keeping', 'huge', 'secret', 'driving', 'barber', 'crazy'],\n",
        "#  ['barber', 'went', 'huge', 'mountain']]\n",
        "\n",
        "tokenizer = Tokenizer()\n",
        "# fit_on_texts()안에 코퍼스를 입력 : 빈도수를 기준으로 단어 집합을 생성\n",
        "tokenizer.fit_on_texts(sentences)"
      ],
      "execution_count": 50,
      "outputs": []
    },
    {
      "cell_type": "code",
      "metadata": {
        "colab": {
          "base_uri": "https://localhost:8080/"
        },
        "id": "TBh8KrMTFoQo",
        "outputId": "11c6498e-1d86-4e9b-fcb0-94daa755d2a3"
      },
      "source": [
        "print(tokenizer.word_index)"
      ],
      "execution_count": 51,
      "outputs": [
        {
          "output_type": "stream",
          "text": [
            "{'barber': 1, 'secret': 2, 'huge': 3, 'kept': 4, 'person': 5, 'word': 6, 'keeping': 7, 'good': 8, 'knew': 9, 'driving': 10, 'crazy': 11, 'went': 12, 'mountain': 13}\n"
          ],
          "name": "stdout"
        }
      ]
    },
    {
      "cell_type": "code",
      "metadata": {
        "colab": {
          "base_uri": "https://localhost:8080/"
        },
        "id": "XFzPwVzzF06W",
        "outputId": "dd31eda9-6e58-44be-800e-0304a8f29568"
      },
      "source": [
        "#  word_index : keras function 중 하나\n",
        "print(tokenizer.word_index)"
      ],
      "execution_count": 52,
      "outputs": [
        {
          "output_type": "stream",
          "text": [
            "{'barber': 1, 'secret': 2, 'huge': 3, 'kept': 4, 'person': 5, 'word': 6, 'keeping': 7, 'good': 8, 'knew': 9, 'driving': 10, 'crazy': 11, 'went': 12, 'mountain': 13}\n"
          ],
          "name": "stdout"
        }
      ]
    },
    {
      "cell_type": "code",
      "metadata": {
        "colab": {
          "base_uri": "https://localhost:8080/"
        },
        "id": "H9iE9PxTJ7n1",
        "outputId": "8f6e65d7-9074-45fa-f3a1-0da1dafa2018"
      },
      "source": [
        "print(tokenizer.word_counts)"
      ],
      "execution_count": 53,
      "outputs": [
        {
          "output_type": "stream",
          "text": [
            "OrderedDict([('barber', 8), ('person', 3), ('good', 1), ('huge', 5), ('knew', 1), ('secret', 6), ('kept', 4), ('word', 2), ('keeping', 2), ('driving', 1), ('crazy', 1), ('went', 1), ('mountain', 1)])\n"
          ],
          "name": "stdout"
        }
      ]
    },
    {
      "cell_type": "markdown",
      "metadata": {
        "id": "Gzif0IDFKKUO"
      },
      "source": [
        "**texts_to_sequences() : 입력으로 들어온 코퍼스에 대해, 정해진 인덱스로 변환**"
      ]
    },
    {
      "cell_type": "code",
      "metadata": {
        "colab": {
          "base_uri": "https://localhost:8080/"
        },
        "id": "SRXH_lsrKCTV",
        "outputId": "61242c7d-c1c3-49fd-e22a-decb2f954871"
      },
      "source": [
        "print(tokenizer.texts_to_sequences(sentences))"
      ],
      "execution_count": 55,
      "outputs": [
        {
          "output_type": "stream",
          "text": [
            "[[1, 5], [1, 8, 5], [1, 3, 5], [9, 2], [2, 4, 3, 2], [3, 2], [1, 4, 6], [1, 4, 6], [1, 4, 2], [7, 7, 3, 2, 10, 1, 11], [1, 12, 3, 13]]\n"
          ],
          "name": "stdout"
        }
      ]
    },
    {
      "cell_type": "markdown",
      "metadata": {
        "id": "NvY8a-X-K2rf"
      },
      "source": [
        "***상단과 다른 부분은, 상위 5개의 단어에 대한 결과만을 indexing \n",
        "단, 'word_index'나 'word_counts'에는 cut된 결과 값을 반환하지 않고, 'Sequences'단에서만 반영되어 설명됨*** "
      ]
    },
    {
      "cell_type": "code",
      "metadata": {
        "id": "oel-c6XlKJBU"
      },
      "source": [
        "vocab_size = 5\n",
        "tokenizer = Tokenizer(num_words = vocab_size + 1)\n",
        "tokenizer.fit_on_texts(sentences)"
      ],
      "execution_count": 56,
      "outputs": []
    },
    {
      "cell_type": "code",
      "metadata": {
        "colab": {
          "base_uri": "https://localhost:8080/"
        },
        "id": "LN-CinzcKp1x",
        "outputId": "79decba7-cf66-4135-d2ae-dfe349ce6e6b"
      },
      "source": [
        "print(tokenizer.word_index)"
      ],
      "execution_count": 57,
      "outputs": [
        {
          "output_type": "stream",
          "text": [
            "{'barber': 1, 'secret': 2, 'huge': 3, 'kept': 4, 'person': 5, 'word': 6, 'keeping': 7, 'good': 8, 'knew': 9, 'driving': 10, 'crazy': 11, 'went': 12, 'mountain': 13}\n"
          ],
          "name": "stdout"
        }
      ]
    },
    {
      "cell_type": "code",
      "metadata": {
        "colab": {
          "base_uri": "https://localhost:8080/"
        },
        "id": "24bQyEn0KsaJ",
        "outputId": "a4bae1c8-aa3e-417c-bdf8-66ab7754d72e"
      },
      "source": [
        "print(tokenizer.word_counts)"
      ],
      "execution_count": 58,
      "outputs": [
        {
          "output_type": "stream",
          "text": [
            "OrderedDict([('barber', 8), ('person', 3), ('good', 1), ('huge', 5), ('knew', 1), ('secret', 6), ('kept', 4), ('word', 2), ('keeping', 2), ('driving', 1), ('crazy', 1), ('went', 1), ('mountain', 1)])\n"
          ],
          "name": "stdout"
        }
      ]
    },
    {
      "cell_type": "code",
      "metadata": {
        "colab": {
          "base_uri": "https://localhost:8080/"
        },
        "id": "2cEswRy8Kzbq",
        "outputId": "67a0499a-208a-4ac3-b5df-3b102c141bf7"
      },
      "source": [
        "print(tokenizer.texts_to_sequences(sentences))"
      ],
      "execution_count": 59,
      "outputs": [
        {
          "output_type": "stream",
          "text": [
            "[[1, 5], [1, 5], [1, 3, 5], [2], [2, 4, 3, 2], [3, 2], [1, 4], [1, 4], [1, 4, 2], [3, 2, 1], [1, 3]]\n"
          ],
          "name": "stdout"
        }
      ]
    }
  ]
}