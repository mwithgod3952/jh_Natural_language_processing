{
  "nbformat": 4,
  "nbformat_minor": 0,
  "metadata": {
    "colab": {
      "name": "개체명 인식 W, Bidirectional LSTM",
      "provenance": [],
      "collapsed_sections": [],
      "authorship_tag": "ABX9TyMriZkNyoHYJub9PUqOlrY+",
      "include_colab_link": true
    },
    "kernelspec": {
      "name": "python3",
      "display_name": "Python 3"
    },
    "language_info": {
      "name": "python"
    },
    "accelerator": "GPU"
  },
  "cells": [
    {
      "cell_type": "markdown",
      "metadata": {
        "id": "view-in-github",
        "colab_type": "text"
      },
      "source": [
        "<a href=\"https://colab.research.google.com/github/mwithgod3952/jh_Natural_language_processing/blob/main/%EA%B0%9C%EC%B2%B4%EB%AA%85_%EC%9D%B8%EC%8B%9D_W%2C_Bidirectional_LSTM.ipynb\" target=\"_parent\"><img src=\"https://colab.research.google.com/assets/colab-badge.svg\" alt=\"Open In Colab\"/></a>"
      ]
    },
    {
      "cell_type": "markdown",
      "metadata": {
        "id": "TmZaMlI4xJ1A"
      },
      "source": [
        "## 개체명 인식 개요"
      ]
    },
    {
      "cell_type": "markdown",
      "metadata": {
        "id": "L6qyC_5uxgYt"
      },
      "source": [
        "쳇봇의 종류 \n",
        "  - 책봇은 크게 두가지 형태로 구분지을 수 있다. \n",
        "        Closed_Domain_Chatbot / Open_Domain_Chatbot\n",
        "              Closed_Domain_Chatbot : 키워드와 인텐트를 기반으로 특정 업무 수행\n",
        "              Open_Domain_Chatbot : Topic에 영향을 받지 않고 학습에 의해 점차 강화되어진 정보로 특정 업무를 수행.\n",
        "\n",
        "  - 본 학습의 주요 목적은, 특정 산업에서의 정보탐색을 목적으로 하기에, Closed_Domain_Chatbot에 중점을 두기로 하고 Closed_Domain_Chatbot에 대해 정리해본다.\n",
        "\n",
        "        Closed_Domain_Chatbot은 두개의 Model 제작을 필요로 한다. \n",
        "        위에서 언급한, 키워드와 인텐트와 관련한 모델이다.\n",
        "              사람이 한 말 혹은 적은 문장/단락/글을 이해하기 위해,\n",
        "              * 키워드 : 말하는 사람의 의도와 의도 안에 사용된 주요 키워드를 파학해 내는 것 (통상, Named entity recognition)\n",
        "\n",
        "              * 인텐트 : 키워드를 기반으로 자연어로 이야기 했을 때, 의도를 파악하는 것 (통상, Intent Classification)\n",
        "              () : 키워드\n",
        "                  Ex) (소리)가 너무 (작아) : 소리좀 키워줘\n",
        "                  Ex) 내 (보험)(조회) : 내 보험조회(확인)        \n",
        "                  Ex) (보험)(계약)(대출) : (보험)(계약)(대출) 문의하고 싶어요.\n"
      ]
    },
    {
      "cell_type": "code",
      "metadata": {
        "id": "MHzpavSoivK5"
      },
      "source": [
        "# import tensorflow as tf\n",
        "# tf.__version__"
      ],
      "execution_count": null,
      "outputs": []
    },
    {
      "cell_type": "code",
      "metadata": {
        "id": "KCYRlCBedOnL"
      },
      "source": [
        "# !pip uninstall tensorflow"
      ],
      "execution_count": null,
      "outputs": []
    },
    {
      "cell_type": "code",
      "metadata": {
        "id": "2sJDzWBkbpSs"
      },
      "source": [
        "# !pip install tensorflow==1.14.0\n",
        "# !pip install keras==2.2.4\n",
        "# !pip install tensorflow-gpu==1.14.0"
      ],
      "execution_count": null,
      "outputs": []
    },
    {
      "cell_type": "code",
      "metadata": {
        "id": "UI1PXojti55m"
      },
      "source": [
        "tf.compat.v1.logging.set_verbosity(tf.compat.v1.logging.ERROR)"
      ],
      "execution_count": null,
      "outputs": []
    },
    {
      "cell_type": "code",
      "metadata": {
        "colab": {
          "base_uri": "https://localhost:8080/"
        },
        "id": "cflxs3uv3Gdy",
        "outputId": "2ffdb548-026d-4de8-c2c7-771831e903dd"
      },
      "source": [
        "import nltk\n",
        "nltk.download('punkt')\n",
        "nltk.download('averaged_perceptron_tagger')\n",
        "nltk.download('maxent_ne_chunker')\n",
        "nltk.download('words')\n",
        "\n",
        "from nltk import word_tokenize, pos_tag, ne_chunk"
      ],
      "execution_count": null,
      "outputs": [
        {
          "output_type": "stream",
          "text": [
            "[nltk_data] Downloading package punkt to /root/nltk_data...\n",
            "[nltk_data]   Unzipping tokenizers/punkt.zip.\n",
            "[nltk_data] Downloading package averaged_perceptron_tagger to\n",
            "[nltk_data]     /root/nltk_data...\n",
            "[nltk_data]   Unzipping taggers/averaged_perceptron_tagger.zip.\n",
            "[nltk_data] Downloading package maxent_ne_chunker to\n",
            "[nltk_data]     /root/nltk_data...\n",
            "[nltk_data]   Unzipping chunkers/maxent_ne_chunker.zip.\n",
            "[nltk_data] Downloading package words to /root/nltk_data...\n",
            "[nltk_data]   Unzipping corpora/words.zip.\n"
          ],
          "name": "stdout"
        }
      ]
    },
    {
      "cell_type": "markdown",
      "metadata": {
        "id": "-35Pj9MO5IjG"
      },
      "source": [
        "- 앞서 품사 태깅(pos_tag)을 수행 \n",
        "- ne_chunk를 통해 개채명 인식 "
      ]
    },
    {
      "cell_type": "code",
      "metadata": {
        "colab": {
          "base_uri": "https://localhost:8080/"
        },
        "id": "0cJstuZQ30vC",
        "outputId": "3cd74a2b-8b1a-41da-f7f4-8f17074fb3ef"
      },
      "source": [
        "sentence = \"James is working at Disney in London\"\n",
        "sentence=pos_tag(word_tokenize(sentence))\n",
        "sentence"
      ],
      "execution_count": null,
      "outputs": [
        {
          "output_type": "execute_result",
          "data": {
            "text/plain": [
              "[('James', 'NNP'),\n",
              " ('is', 'VBZ'),\n",
              " ('working', 'VBG'),\n",
              " ('at', 'IN'),\n",
              " ('Disney', 'NNP'),\n",
              " ('in', 'IN'),\n",
              " ('London', 'NNP')]"
            ]
          },
          "metadata": {
            "tags": []
          },
          "execution_count": 4
        }
      ]
    },
    {
      "cell_type": "code",
      "metadata": {
        "colab": {
          "base_uri": "https://localhost:8080/"
        },
        "id": "60I6kST931eQ",
        "outputId": "588d2058-70a7-44dd-9618-0767fce9e318"
      },
      "source": [
        "sentence=ne_chunk(sentence)\n",
        "print(sentence) # 개체명 인식"
      ],
      "execution_count": null,
      "outputs": [
        {
          "output_type": "stream",
          "text": [
            "(S\n",
            "  (PERSON James/NNP)\n",
            "  is/VBZ\n",
            "  working/VBG\n",
            "  at/IN\n",
            "  (ORGANIZATION Disney/NNP)\n",
            "  in/IN\n",
            "  (GPE London/NNP))\n"
          ],
          "name": "stdout"
        }
      ]
    },
    {
      "cell_type": "markdown",
      "metadata": {
        "id": "tMPyR5vK5VP7"
      },
      "source": [
        "---"
      ]
    },
    {
      "cell_type": "markdown",
      "metadata": {
        "id": "vDdEz43N5WTk"
      },
      "source": [
        "## 양방향 LSTM을 이용한 개체명 인식"
      ]
    },
    {
      "cell_type": "code",
      "metadata": {
        "id": "0cOjA4TE5dIP"
      },
      "source": [
        "import pandas as pd\n",
        "import numpy as np\n",
        "\n",
        "%matplotlib inline\n",
        "import matplotlib.pyplot as plt\n",
        "\n",
        "from tensorflow.keras.preprocessing.text import Tokenizer\n",
        "from tensorflow.keras.preprocessing.sequence import pad_sequences\n",
        "from tensorflow.keras.utils import to_categorical\n",
        "\n",
        "from sklearn.model_selection import train_test_split"
      ],
      "execution_count": null,
      "outputs": []
    },
    {
      "cell_type": "code",
      "metadata": {
        "colab": {
          "base_uri": "https://localhost:8080/"
        },
        "id": "zIY_PRJW540B",
        "outputId": "f781d797-f7cf-4f6a-a12a-67a018482e08"
      },
      "source": [
        "from google.colab import drive\n",
        "drive.mount('/content/drive')"
      ],
      "execution_count": null,
      "outputs": [
        {
          "output_type": "stream",
          "text": [
            "Mounted at /content/drive\n"
          ],
          "name": "stdout"
        }
      ]
    },
    {
      "cell_type": "code",
      "metadata": {
        "id": "wMkpp-wR7frQ"
      },
      "source": [
        "file_name='/content/drive/MyDrive/ner_data/ner_dataset.csv' \n",
        "data = pd.read_csv(file_name, encoding=\"latin1\")"
      ],
      "execution_count": null,
      "outputs": []
    },
    {
      "cell_type": "code",
      "metadata": {
        "colab": {
          "base_uri": "https://localhost:8080/"
        },
        "id": "l3-zTtg-8uMO",
        "outputId": "b7799869-82e3-43dd-cef9-d4822d844d78"
      },
      "source": [
        "data.info()"
      ],
      "execution_count": null,
      "outputs": [
        {
          "output_type": "stream",
          "text": [
            "<class 'pandas.core.frame.DataFrame'>\n",
            "RangeIndex: 1048575 entries, 0 to 1048574\n",
            "Data columns (total 4 columns):\n",
            " #   Column      Non-Null Count    Dtype \n",
            "---  ------      --------------    ----- \n",
            " 0   Sentence #  47959 non-null    object\n",
            " 1   Word        1048575 non-null  object\n",
            " 2   POS         1048575 non-null  object\n",
            " 3   Tag         1048575 non-null  object\n",
            "dtypes: object(4)\n",
            "memory usage: 32.0+ MB\n"
          ],
          "name": "stdout"
        }
      ]
    },
    {
      "cell_type": "code",
      "metadata": {
        "colab": {
          "base_uri": "https://localhost:8080/",
          "height": 204
        },
        "id": "c5i0Raic_f32",
        "outputId": "5b6118a9-a079-4bf2-c8f9-fa2346bd9a15"
      },
      "source": [
        "data[:5]"
      ],
      "execution_count": null,
      "outputs": [
        {
          "output_type": "execute_result",
          "data": {
            "text/html": [
              "<div>\n",
              "<style scoped>\n",
              "    .dataframe tbody tr th:only-of-type {\n",
              "        vertical-align: middle;\n",
              "    }\n",
              "\n",
              "    .dataframe tbody tr th {\n",
              "        vertical-align: top;\n",
              "    }\n",
              "\n",
              "    .dataframe thead th {\n",
              "        text-align: right;\n",
              "    }\n",
              "</style>\n",
              "<table border=\"1\" class=\"dataframe\">\n",
              "  <thead>\n",
              "    <tr style=\"text-align: right;\">\n",
              "      <th></th>\n",
              "      <th>Sentence #</th>\n",
              "      <th>Word</th>\n",
              "      <th>POS</th>\n",
              "      <th>Tag</th>\n",
              "    </tr>\n",
              "  </thead>\n",
              "  <tbody>\n",
              "    <tr>\n",
              "      <th>0</th>\n",
              "      <td>Sentence: 1</td>\n",
              "      <td>Thousands</td>\n",
              "      <td>NNS</td>\n",
              "      <td>O</td>\n",
              "    </tr>\n",
              "    <tr>\n",
              "      <th>1</th>\n",
              "      <td>NaN</td>\n",
              "      <td>of</td>\n",
              "      <td>IN</td>\n",
              "      <td>O</td>\n",
              "    </tr>\n",
              "    <tr>\n",
              "      <th>2</th>\n",
              "      <td>NaN</td>\n",
              "      <td>demonstrators</td>\n",
              "      <td>NNS</td>\n",
              "      <td>O</td>\n",
              "    </tr>\n",
              "    <tr>\n",
              "      <th>3</th>\n",
              "      <td>NaN</td>\n",
              "      <td>have</td>\n",
              "      <td>VBP</td>\n",
              "      <td>O</td>\n",
              "    </tr>\n",
              "    <tr>\n",
              "      <th>4</th>\n",
              "      <td>NaN</td>\n",
              "      <td>marched</td>\n",
              "      <td>VBN</td>\n",
              "      <td>O</td>\n",
              "    </tr>\n",
              "  </tbody>\n",
              "</table>\n",
              "</div>"
            ],
            "text/plain": [
              "    Sentence #           Word  POS Tag\n",
              "0  Sentence: 1      Thousands  NNS   O\n",
              "1          NaN             of   IN   O\n",
              "2          NaN  demonstrators  NNS   O\n",
              "3          NaN           have  VBP   O\n",
              "4          NaN        marched  VBN   O"
            ]
          },
          "metadata": {
            "tags": []
          },
          "execution_count": 11
        }
      ]
    },
    {
      "cell_type": "code",
      "metadata": {
        "colab": {
          "base_uri": "https://localhost:8080/"
        },
        "id": "LyPAVjQ1_VzG",
        "outputId": "4efa5924-f175-40c3-8be5-d0f1b9467583"
      },
      "source": [
        "data.isnull().sum()"
      ],
      "execution_count": null,
      "outputs": [
        {
          "output_type": "execute_result",
          "data": {
            "text/plain": [
              "Sentence #    1000616\n",
              "Word                0\n",
              "POS                 0\n",
              "Tag                 0\n",
              "dtype: int64"
            ]
          },
          "metadata": {
            "tags": []
          },
          "execution_count": 12
        }
      ]
    },
    {
      "cell_type": "code",
      "metadata": {
        "id": "DvbspgH2APAw",
        "colab": {
          "base_uri": "https://localhost:8080/"
        },
        "outputId": "308ee688-bcf7-4d07-887c-9eccbc801b67"
      },
      "source": [
        "print('Sentence # 열에 대해 중복을 제거한 값의 개수 : {}'.format(data['Sentence #'].nunique()))\n",
        "print('Word 열에 대해 중복을 제거한 값의 개수 : {}'.format(data['Word'].nunique()))\n",
        "print('POS 열에 대해 중복을 제거한 값의 개수 : {}'.format(data['POS'].nunique()))\n",
        "print('Tag 열에 대해 중복을 제거한 값의 개수 : {}'.format(data['Tag'].nunique()))"
      ],
      "execution_count": null,
      "outputs": [
        {
          "output_type": "stream",
          "text": [
            "Sentence # 열에 대해 중복을 제거한 값의 개수 : 47959\n",
            "Word 열에 대해 중복을 제거한 값의 개수 : 35178\n",
            "POS 열에 대해 중복을 제거한 값의 개수 : 42\n",
            "Tag 열에 대해 중복을 제거한 값의 개수 : 17\n"
          ],
          "name": "stdout"
        }
      ]
    },
    {
      "cell_type": "markdown",
      "metadata": {
        "id": "zQVPQY2s-DWF"
      },
      "source": [
        "즉, 위 데이터 셋을 분석한 결과는 다음과 같다.\n",
        "\n",
        "     - 전체 문장 47959개 는, 35178개의 단어를 가지공 있으며, 17개의 Tag를 통해 구분됨"
      ]
    },
    {
      "cell_type": "markdown",
      "metadata": {
        "id": "32Yv0r-UAPr-"
      },
      "source": [
        "---"
      ]
    },
    {
      "cell_type": "code",
      "metadata": {
        "colab": {
          "base_uri": "https://localhost:8080/",
          "height": 576
        },
        "id": "mMCqSCVDAhKQ",
        "outputId": "86594878-3903-4c9d-e661-0c869c095445"
      },
      "source": [
        "data.groupby('Tag').size().reset_index(name='count')"
      ],
      "execution_count": null,
      "outputs": [
        {
          "output_type": "execute_result",
          "data": {
            "text/html": [
              "<div>\n",
              "<style scoped>\n",
              "    .dataframe tbody tr th:only-of-type {\n",
              "        vertical-align: middle;\n",
              "    }\n",
              "\n",
              "    .dataframe tbody tr th {\n",
              "        vertical-align: top;\n",
              "    }\n",
              "\n",
              "    .dataframe thead th {\n",
              "        text-align: right;\n",
              "    }\n",
              "</style>\n",
              "<table border=\"1\" class=\"dataframe\">\n",
              "  <thead>\n",
              "    <tr style=\"text-align: right;\">\n",
              "      <th></th>\n",
              "      <th>Tag</th>\n",
              "      <th>count</th>\n",
              "    </tr>\n",
              "  </thead>\n",
              "  <tbody>\n",
              "    <tr>\n",
              "      <th>0</th>\n",
              "      <td>B-art</td>\n",
              "      <td>402</td>\n",
              "    </tr>\n",
              "    <tr>\n",
              "      <th>1</th>\n",
              "      <td>B-eve</td>\n",
              "      <td>308</td>\n",
              "    </tr>\n",
              "    <tr>\n",
              "      <th>2</th>\n",
              "      <td>B-geo</td>\n",
              "      <td>37644</td>\n",
              "    </tr>\n",
              "    <tr>\n",
              "      <th>3</th>\n",
              "      <td>B-gpe</td>\n",
              "      <td>15870</td>\n",
              "    </tr>\n",
              "    <tr>\n",
              "      <th>4</th>\n",
              "      <td>B-nat</td>\n",
              "      <td>201</td>\n",
              "    </tr>\n",
              "    <tr>\n",
              "      <th>5</th>\n",
              "      <td>B-org</td>\n",
              "      <td>20143</td>\n",
              "    </tr>\n",
              "    <tr>\n",
              "      <th>6</th>\n",
              "      <td>B-per</td>\n",
              "      <td>16990</td>\n",
              "    </tr>\n",
              "    <tr>\n",
              "      <th>7</th>\n",
              "      <td>B-tim</td>\n",
              "      <td>20333</td>\n",
              "    </tr>\n",
              "    <tr>\n",
              "      <th>8</th>\n",
              "      <td>I-art</td>\n",
              "      <td>297</td>\n",
              "    </tr>\n",
              "    <tr>\n",
              "      <th>9</th>\n",
              "      <td>I-eve</td>\n",
              "      <td>253</td>\n",
              "    </tr>\n",
              "    <tr>\n",
              "      <th>10</th>\n",
              "      <td>I-geo</td>\n",
              "      <td>7414</td>\n",
              "    </tr>\n",
              "    <tr>\n",
              "      <th>11</th>\n",
              "      <td>I-gpe</td>\n",
              "      <td>198</td>\n",
              "    </tr>\n",
              "    <tr>\n",
              "      <th>12</th>\n",
              "      <td>I-nat</td>\n",
              "      <td>51</td>\n",
              "    </tr>\n",
              "    <tr>\n",
              "      <th>13</th>\n",
              "      <td>I-org</td>\n",
              "      <td>16784</td>\n",
              "    </tr>\n",
              "    <tr>\n",
              "      <th>14</th>\n",
              "      <td>I-per</td>\n",
              "      <td>17251</td>\n",
              "    </tr>\n",
              "    <tr>\n",
              "      <th>15</th>\n",
              "      <td>I-tim</td>\n",
              "      <td>6528</td>\n",
              "    </tr>\n",
              "    <tr>\n",
              "      <th>16</th>\n",
              "      <td>O</td>\n",
              "      <td>887908</td>\n",
              "    </tr>\n",
              "  </tbody>\n",
              "</table>\n",
              "</div>"
            ],
            "text/plain": [
              "      Tag   count\n",
              "0   B-art     402\n",
              "1   B-eve     308\n",
              "2   B-geo   37644\n",
              "3   B-gpe   15870\n",
              "4   B-nat     201\n",
              "5   B-org   20143\n",
              "6   B-per   16990\n",
              "7   B-tim   20333\n",
              "8   I-art     297\n",
              "9   I-eve     253\n",
              "10  I-geo    7414\n",
              "11  I-gpe     198\n",
              "12  I-nat      51\n",
              "13  I-org   16784\n",
              "14  I-per   17251\n",
              "15  I-tim    6528\n",
              "16      O  887908"
            ]
          },
          "metadata": {
            "tags": []
          },
          "execution_count": 14
        }
      ]
    },
    {
      "cell_type": "markdown",
      "metadata": {
        "id": "Dl1TwQeIAOR8"
      },
      "source": [
        "***전체의 데이터셋에서, 17 개의 개체명 태그의 분포를 확인***  \n",
        "\n",
        "    BIO Tagging\n",
        "          - B는 Begin의 약자로 개체명이 시작되는 부분\n",
        "          - I는 Inside의 약자로 개체명의 내부 부분\n",
        "          - O는 Outside의 약자로 개체명이 아닌 부분을 의미\n",
        "\n",
        "Ex_1)\n",
        "\n",
        "해-B(movie)\n",
        "리-I(movie)\n",
        "포-I(movie)\n",
        "터-I(movie)\n",
        "보-O\n",
        "러-O\n",
        "가-O\n",
        "자-O\n",
        "메-B(theater)\n",
        "가-I(theater)\n",
        "박-I(theater)\n",
        "스-I(theater)\n",
        "에-O\n",
        "서-O\n",
        "보-O\n",
        "자-O \n",
        "\n",
        "Ex_2)\n",
        "\n",
        "해리포터-B(move)\n",
        "와-I(move) \n",
        "마법사-I(move)\n",
        "의-I(move)\n",
        "돌-I(move)\n",
        "을-O\n",
        "저녁-B(time)\n",
        "7시-I(time)\n",
        "에-O \n",
        "예매-O\n",
        "해줘-O\n"
      ]
    },
    {
      "cell_type": "code",
      "metadata": {
        "colab": {
          "base_uri": "https://localhost:8080/",
          "height": 204
        },
        "id": "uzCtNc4eBV4n",
        "outputId": "bf2678c6-c425-4042-ab07-43de8aea3cf7"
      },
      "source": [
        "# null 값 제거 \n",
        "# 우리는 상단에서, Null값이 한 문장 안에 종속되는 단어들임을 구분하기 위해, 자연수럽게 생긴 null의 공간임을 파악하였다.\n",
        "# 이런 이유로, 나는 행을 제거하는 것이 아니라, 최 상위의 Sentence라는 str 값을 카피하여 값을 대체시키고자 한다.\n",
        "\n",
        "data = data.fillna(method='ffill')\n",
        "data.tail()"
      ],
      "execution_count": null,
      "outputs": [
        {
          "output_type": "execute_result",
          "data": {
            "text/html": [
              "<div>\n",
              "<style scoped>\n",
              "    .dataframe tbody tr th:only-of-type {\n",
              "        vertical-align: middle;\n",
              "    }\n",
              "\n",
              "    .dataframe tbody tr th {\n",
              "        vertical-align: top;\n",
              "    }\n",
              "\n",
              "    .dataframe thead th {\n",
              "        text-align: right;\n",
              "    }\n",
              "</style>\n",
              "<table border=\"1\" class=\"dataframe\">\n",
              "  <thead>\n",
              "    <tr style=\"text-align: right;\">\n",
              "      <th></th>\n",
              "      <th>Sentence #</th>\n",
              "      <th>Word</th>\n",
              "      <th>POS</th>\n",
              "      <th>Tag</th>\n",
              "    </tr>\n",
              "  </thead>\n",
              "  <tbody>\n",
              "    <tr>\n",
              "      <th>1048570</th>\n",
              "      <td>Sentence: 47959</td>\n",
              "      <td>they</td>\n",
              "      <td>PRP</td>\n",
              "      <td>O</td>\n",
              "    </tr>\n",
              "    <tr>\n",
              "      <th>1048571</th>\n",
              "      <td>Sentence: 47959</td>\n",
              "      <td>responded</td>\n",
              "      <td>VBD</td>\n",
              "      <td>O</td>\n",
              "    </tr>\n",
              "    <tr>\n",
              "      <th>1048572</th>\n",
              "      <td>Sentence: 47959</td>\n",
              "      <td>to</td>\n",
              "      <td>TO</td>\n",
              "      <td>O</td>\n",
              "    </tr>\n",
              "    <tr>\n",
              "      <th>1048573</th>\n",
              "      <td>Sentence: 47959</td>\n",
              "      <td>the</td>\n",
              "      <td>DT</td>\n",
              "      <td>O</td>\n",
              "    </tr>\n",
              "    <tr>\n",
              "      <th>1048574</th>\n",
              "      <td>Sentence: 47959</td>\n",
              "      <td>attack</td>\n",
              "      <td>NN</td>\n",
              "      <td>O</td>\n",
              "    </tr>\n",
              "  </tbody>\n",
              "</table>\n",
              "</div>"
            ],
            "text/plain": [
              "              Sentence #       Word  POS Tag\n",
              "1048570  Sentence: 47959       they  PRP   O\n",
              "1048571  Sentence: 47959  responded  VBD   O\n",
              "1048572  Sentence: 47959         to   TO   O\n",
              "1048573  Sentence: 47959        the   DT   O\n",
              "1048574  Sentence: 47959     attack   NN   O"
            ]
          },
          "metadata": {
            "tags": []
          },
          "execution_count": 15
        }
      ]
    },
    {
      "cell_type": "code",
      "metadata": {
        "colab": {
          "base_uri": "https://localhost:8080/"
        },
        "id": "knV4dXvtFIWJ",
        "outputId": "0872fe42-3c62-4269-a800-d3baf0f7b0c5"
      },
      "source": [
        "data.isnull().values.any()"
      ],
      "execution_count": null,
      "outputs": [
        {
          "output_type": "execute_result",
          "data": {
            "text/plain": [
              "False"
            ]
          },
          "metadata": {
            "tags": []
          },
          "execution_count": 16
        }
      ]
    },
    {
      "cell_type": "code",
      "metadata": {
        "id": "aWxObD9xFUuv"
      },
      "source": [
        "data['Word'] = data['Word'].str.lower() "
      ],
      "execution_count": null,
      "outputs": []
    },
    {
      "cell_type": "code",
      "metadata": {
        "colab": {
          "base_uri": "https://localhost:8080/"
        },
        "id": "VGJhfP2PFmpB",
        "outputId": "75477ad3-a62a-4094-8fb5-df9f3a516a07"
      },
      "source": [
        "data['Word'].tail()"
      ],
      "execution_count": null,
      "outputs": [
        {
          "output_type": "execute_result",
          "data": {
            "text/plain": [
              "1048570         they\n",
              "1048571    responded\n",
              "1048572           to\n",
              "1048573          the\n",
              "1048574       attack\n",
              "Name: Word, dtype: object"
            ]
          },
          "metadata": {
            "tags": []
          },
          "execution_count": 18
        }
      ]
    },
    {
      "cell_type": "code",
      "metadata": {
        "id": "zjRuEJOzF524"
      },
      "source": [
        "func = lambda temp: [(w,t) for w, t in zip(temp['Word'].values.tolist(), temp['Tag'].values.tolist())]\n",
        "tagged_sentences = [t for t in data.groupby('Sentence #').apply(func)]"
      ],
      "execution_count": null,
      "outputs": []
    },
    {
      "cell_type": "code",
      "metadata": {
        "colab": {
          "base_uri": "https://localhost:8080/"
        },
        "id": "BZHTQR32HR2C",
        "outputId": "611ffcba-af36-46aa-81b5-62f11ad2a387"
      },
      "source": [
        "len(tagged_sentences)"
      ],
      "execution_count": null,
      "outputs": [
        {
          "output_type": "execute_result",
          "data": {
            "text/plain": [
              "47959"
            ]
          },
          "metadata": {
            "tags": []
          },
          "execution_count": 20
        }
      ]
    },
    {
      "cell_type": "code",
      "metadata": {
        "colab": {
          "base_uri": "https://localhost:8080/"
        },
        "id": "GyEBfkrVGIcX",
        "outputId": "aed1bd33-073f-4365-d59c-4a4d206daf24"
      },
      "source": [
        "tagged_sentences[0]"
      ],
      "execution_count": null,
      "outputs": [
        {
          "output_type": "execute_result",
          "data": {
            "text/plain": [
              "[('thousands', 'O'),\n",
              " ('of', 'O'),\n",
              " ('demonstrators', 'O'),\n",
              " ('have', 'O'),\n",
              " ('marched', 'O'),\n",
              " ('through', 'O'),\n",
              " ('london', 'B-geo'),\n",
              " ('to', 'O'),\n",
              " ('protest', 'O'),\n",
              " ('the', 'O'),\n",
              " ('war', 'O'),\n",
              " ('in', 'O'),\n",
              " ('iraq', 'B-geo'),\n",
              " ('and', 'O'),\n",
              " ('demand', 'O'),\n",
              " ('the', 'O'),\n",
              " ('withdrawal', 'O'),\n",
              " ('of', 'O'),\n",
              " ('british', 'B-gpe'),\n",
              " ('troops', 'O'),\n",
              " ('from', 'O'),\n",
              " ('that', 'O'),\n",
              " ('country', 'O'),\n",
              " ('.', 'O')]"
            ]
          },
          "metadata": {
            "tags": []
          },
          "execution_count": 21
        }
      ]
    },
    {
      "cell_type": "code",
      "metadata": {
        "id": "goaDyFXeGJde"
      },
      "source": [
        "sentences, ner_tags = [], []\n",
        "for X in tagged_sentences:\n",
        "  sentence, tag_info = zip(*X)\n",
        "  sentences.append(list(sentence))\n",
        "  ner_tags.append(list(tag_info))  "
      ],
      "execution_count": null,
      "outputs": []
    },
    {
      "cell_type": "code",
      "metadata": {
        "colab": {
          "base_uri": "https://localhost:8080/"
        },
        "id": "U22pmusfNUlB",
        "outputId": "c6ef57ca-9bf8-46eb-deb6-11da4956211d"
      },
      "source": [
        "print(sentences[98])\n",
        "print(ner_tags[98])"
      ],
      "execution_count": null,
      "outputs": [
        {
          "output_type": "stream",
          "text": [
            "['she', 'had', 'once', 'received', 'a', 'kidney', 'transplant', '.']\n",
            "['O', 'O', 'O', 'O', 'O', 'O', 'O', 'O']\n"
          ],
          "name": "stdout"
        }
      ]
    },
    {
      "cell_type": "code",
      "metadata": {
        "colab": {
          "base_uri": "https://localhost:8080/",
          "height": 315
        },
        "id": "ScJnoqc0N9jd",
        "outputId": "7a1a37a6-1c18-4655-ccd3-0ea868ff5cc4"
      },
      "source": [
        "print('샘플의 최대 길이 %d' % max([len(le) for le in sentences]))\n",
        "print('샘플의 평균 길이 : %f' % (sum(map(len, sentences))/len(sentences)))\n",
        "plt.hist([len(s) for s in sentences], bins=50)\n",
        "plt.xlabel('length of samples')\n",
        "plt.ylabel('number of samples')\n",
        "plt.show()"
      ],
      "execution_count": null,
      "outputs": [
        {
          "output_type": "stream",
          "text": [
            "샘플의 최대 길이 104\n",
            "샘플의 평균 길이 : 21.863988\n"
          ],
          "name": "stdout"
        },
        {
          "output_type": "display_data",
          "data": {
            "image/png": "[encoded data removed]",
            "text/plain": [
              "<Figure size 432x288 with 1 Axes>"
            ]
          },
          "metadata": {
            "tags": [],
            "needs_background": "light"
          }
        }
      ]
    },
    {
      "cell_type": "markdown",
      "metadata": {
        "id": "8WeRnsU0SSA1"
      },
      "source": [
        "#### 정수 인코딩"
      ]
    },
    {
      "cell_type": "code",
      "metadata": {
        "id": "x-83hO5dN9mM"
      },
      "source": [
        "src_tokenizer = Tokenizer(oov_token='OOV')\n",
        "src_tokenizer.fit_on_texts(sentences)\n",
        "tar_tokenizer = Tokenizer(lower=False)\n",
        "tar_tokenizer.fit_on_texts(ner_tags)"
      ],
      "execution_count": null,
      "outputs": []
    },
    {
      "cell_type": "code",
      "metadata": {
        "colab": {
          "base_uri": "https://localhost:8080/"
        },
        "id": "j04w4p36N9oo",
        "outputId": "b9eb9175-16da-49de-81fb-414d40126586"
      },
      "source": [
        "vocab_size = len(src_tokenizer.word_index) + 1\n",
        "tag_size = len(tar_tokenizer.word_index) + 1\n",
        "print('단어 집합의 크기 : {}'.format(vocab_size))\n",
        "print('개체명 태깅 정보 집합의 크기 : {}'.format(tag_size))"
      ],
      "execution_count": null,
      "outputs": [
        {
          "output_type": "stream",
          "text": [
            "단어 집합의 크기 : 31819\n",
            "개체명 태깅 정보 집합의 크기 : 18\n"
          ],
          "name": "stdout"
        }
      ]
    },
    {
      "cell_type": "code",
      "metadata": {
        "colab": {
          "base_uri": "https://localhost:8080/"
        },
        "id": "OUAkcNYqN9rL",
        "outputId": "b0864567-30e2-4bfd-9ed9-d77870b388e8"
      },
      "source": [
        "print('단어 OOV의 인덱스 : {}'.format(src_tokenizer.word_index['OOV']))"
      ],
      "execution_count": null,
      "outputs": [
        {
          "output_type": "stream",
          "text": [
            "단어 OOV의 인덱스 : 1\n"
          ],
          "name": "stdout"
        }
      ]
    },
    {
      "cell_type": "markdown",
      "metadata": {
        "id": "Czh5L1-Mk-Ws"
      },
      "source": [
        "* 정수 인코딩에 대한 상단의 내용 정리\n",
        "\n",
        "      - 위의 과정은 정수 인코딩을 위한 모델생성 과정이다.\n",
        "      - 위 과정에서 유의하여 확인할 것은, \n",
        "                  1. 'OOV' 에 대한 인덱스(1)를 모델 생성 과정에서 지정해주었다는 것.\n",
        "                  2. Tag 정보를 확인했을 때, 대문자가 혼용된 형태라는 것을 확인했기 때문에, 이에 대한 부분 역시 대문자를 유지하겠다는 명령을 모델 생성과정에서 지정해주었다는 점\n"
      ]
    },
    {
      "cell_type": "code",
      "metadata": {
        "id": "sSKg4N_PN9ty"
      },
      "source": [
        "X_data = src_tokenizer.texts_to_sequences(sentences)\n",
        "y_data = tar_tokenizer.texts_to_sequences(ner_tags)"
      ],
      "execution_count": null,
      "outputs": []
    },
    {
      "cell_type": "code",
      "metadata": {
        "colab": {
          "base_uri": "https://localhost:8080/"
        },
        "id": "mAPXwNHQnTTO",
        "outputId": "557af3c0-ca34-4536-dd49-17462af72fce"
      },
      "source": [
        "print(X_data[0][:10])\n",
        "print(y_data[0][:10])"
      ],
      "execution_count": null,
      "outputs": [
        {
          "output_type": "stream",
          "text": [
            "[254, 6, 967, 16, 1795, 238, 468, 7, 523, 2]\n",
            "[1, 1, 1, 1, 1, 1, 2, 1, 1, 1]\n"
          ],
          "name": "stdout"
        }
      ]
    },
    {
      "cell_type": "markdown",
      "metadata": {
        "id": "bqmRLKahmAiR"
      },
      "source": [
        "***LSTM에 적제하기 위해 texts_to_sequences를 통해 '문장'과 '테그'를 토큰화 시켰으며 통기에 모델에 적제하기 위해 입력과, 타겟으로 각 시퀀스를 저장하였다.***"
      ]
    },
    {
      "cell_type": "code",
      "metadata": {
        "id": "iw2qvCzjN9vn"
      },
      "source": [
        "word_to_index = src_tokenizer.word_index\n",
        "index_to_word = src_tokenizer.index_word\n",
        "ner_to_index = tar_tokenizer.word_index\n",
        "index_to_ner = tar_tokenizer.index_word\n",
        "index_to_ner[0] = 'PAD'"
      ],
      "execution_count": null,
      "outputs": []
    },
    {
      "cell_type": "code",
      "metadata": {
        "colab": {
          "base_uri": "https://localhost:8080/"
        },
        "id": "HA4f3c0doeos",
        "outputId": "bd5bf01c-5088-4d56-9b56-16554d80d163"
      },
      "source": [
        "print(ner_to_index)\n",
        "# 아 O가 1로 encoding된 것 을 모델 상에서 가장 빈도수가 높은 Tag가 1로 할당되엇다는 것을 확인할 수 있었음"
      ],
      "execution_count": null,
      "outputs": [
        {
          "output_type": "stream",
          "text": [
            "{'O': 1, 'B-geo': 2, 'B-tim': 3, 'B-org': 4, 'I-per': 5, 'B-per': 6, 'I-org': 7, 'B-gpe': 8, 'I-geo': 9, 'I-tim': 10, 'B-art': 11, 'B-eve': 12, 'I-art': 13, 'I-eve': 14, 'B-nat': 15, 'I-gpe': 16, 'I-nat': 17}\n"
          ],
          "name": "stdout"
        }
      ]
    },
    {
      "cell_type": "code",
      "metadata": {
        "colab": {
          "base_uri": "https://localhost:8080/"
        },
        "id": "7d36jKl8oE81",
        "outputId": "9f9ed0ac-83c4-432e-8183-cf0c5cd7f278"
      },
      "source": [
        "print(index_to_ner)"
      ],
      "execution_count": null,
      "outputs": [
        {
          "output_type": "stream",
          "text": [
            "{1: 'O', 2: 'B-geo', 3: 'B-tim', 4: 'B-org', 5: 'I-per', 6: 'B-per', 7: 'I-org', 8: 'B-gpe', 9: 'I-geo', 10: 'I-tim', 11: 'B-art', 12: 'B-eve', 13: 'I-art', 14: 'I-eve', 15: 'B-nat', 16: 'I-gpe', 17: 'I-nat', 0: 'PAD'}\n"
          ],
          "name": "stdout"
        }
      ]
    },
    {
      "cell_type": "markdown",
      "metadata": {
        "id": "dKsWKZSCnrzH"
      },
      "source": [
        "***모델 훈련 후 결과 확인을 위해 인덱스로부터 단어를 리턴하는 index_to_word를 src_tokenizer 및 tar_tokenizer부터 도출***"
      ]
    },
    {
      "cell_type": "code",
      "metadata": {
        "colab": {
          "base_uri": "https://localhost:8080/"
        },
        "id": "t7YPPPIHSuhx",
        "outputId": "fc498f42-6583-4b04-eb06-909278935235"
      },
      "source": [
        "decoded = []\n",
        "for index in X_data[0] :\n",
        "    decoded.append(index_to_word[index]) \n",
        "\n",
        "print('기존의 문장 : {}'.format(sentences[0]))\n",
        "print('디코딩 문장 : {}'.format(decoded))"
      ],
      "execution_count": null,
      "outputs": [
        {
          "output_type": "stream",
          "text": [
            "기존의 문장 : ['thousands', 'of', 'demonstrators', 'have', 'marched', 'through', 'london', 'to', 'protest', 'the', 'war', 'in', 'iraq', 'and', 'demand', 'the', 'withdrawal', 'of', 'british', 'troops', 'from', 'that', 'country', '.']\n",
            "디코딩 문장 : ['thousands', 'of', 'demonstrators', 'have', 'marched', 'through', 'london', 'to', 'protest', 'the', 'war', 'in', 'iraq', 'and', 'demand', 'the', 'withdrawal', 'of', 'british', 'troops', 'from', 'that', 'country', '.']\n"
          ],
          "name": "stdout"
        }
      ]
    },
    {
      "cell_type": "markdown",
      "metadata": {
        "id": "fB4KbCudpCqy"
      },
      "source": [
        "***디코딩 테스트***"
      ]
    },
    {
      "cell_type": "markdown",
      "metadata": {
        "id": "a0-xkDOJpG8P"
      },
      "source": [
        "---"
      ]
    },
    {
      "cell_type": "code",
      "metadata": {
        "id": "eBNUD38_V9pl"
      },
      "source": [
        "max_len = 70\n",
        "\n",
        "X_data = pad_sequences(X_data, padding='post', maxlen=max_len)\n",
        "y_data = pad_sequences(y_data, padding='post', maxlen=max_len)"
      ],
      "execution_count": null,
      "outputs": []
    },
    {
      "cell_type": "markdown",
      "metadata": {
        "id": "wlANtBJ3pVbk"
      },
      "source": [
        "***패딩***\n",
        "\n",
        "      - 위에서 샘플들의 크기 분포를 Histogram 으로 확인했을 때, \n",
        "      최대값은 비록 104이지만, 대부분의 값 분포가 70임을 확인.\n",
        "      - max_len을 70으로 지정하며, post단에 zero padding 진행. "
      ]
    },
    {
      "cell_type": "markdown",
      "metadata": {
        "id": "-nMWwGRep9mz"
      },
      "source": [
        "---"
      ]
    },
    {
      "cell_type": "code",
      "metadata": {
        "id": "7v0x19XtSukc"
      },
      "source": [
        "X_train, X_test, y_train, y_test = train_test_split(X_data, y_data, test_size=.2, random_state=777)"
      ],
      "execution_count": null,
      "outputs": []
    },
    {
      "cell_type": "code",
      "metadata": {
        "id": "8feGg7PWSum8"
      },
      "source": [
        "y_train = to_categorical(y_train, num_classes=tag_size)\n",
        "y_test = to_categorical(y_test, num_classes=tag_size)"
      ],
      "execution_count": null,
      "outputs": []
    },
    {
      "cell_type": "markdown",
      "metadata": {
        "id": "LoHh94JtqJiT"
      },
      "source": [
        "***Y 정보에 대하여 One-Hot-Encoding을 진행***"
      ]
    },
    {
      "cell_type": "code",
      "metadata": {
        "colab": {
          "base_uri": "https://localhost:8080/"
        },
        "id": "0ay4GU7yTjXs",
        "outputId": "ad3e5e37-64f7-4d4b-e932-4165c218597d"
      },
      "source": [
        "print('훈련 샘플 문장의 크기 : {}'.format(X_train.shape))\n",
        "print('훈련 샘플 레이블의 크기 : {}'.format(y_train.shape))\n",
        "print('테스트 샘플 문장의 크기 : {}'.format(X_test.shape))\n",
        "print('테스트 샘플 레이블의 크기 : {}'.format(y_test.shape))"
      ],
      "execution_count": null,
      "outputs": [
        {
          "output_type": "stream",
          "text": [
            "훈련 샘플 문장의 크기 : (38367, 70)\n",
            "훈련 샘플 레이블의 크기 : (38367, 70, 18)\n",
            "테스트 샘플 문장의 크기 : (9592, 70)\n",
            "테스트 샘플 레이블의 크기 : (9592, 70, 18)\n"
          ],
          "name": "stdout"
        }
      ]
    },
    {
      "cell_type": "markdown",
      "metadata": {
        "id": "AX1jxRkSUyzP"
      },
      "source": [
        "---"
      ]
    },
    {
      "cell_type": "markdown",
      "metadata": {
        "id": "n6rlt-81WGXc"
      },
      "source": [
        "### F1 Score"
      ]
    },
    {
      "cell_type": "code",
      "metadata": {
        "colab": {
          "base_uri": "https://localhost:8080/"
        },
        "id": "MLYH-r5UWGac",
        "outputId": "4a7eaba2-016a-4b2f-91aa-f7f14cf02b41"
      },
      "source": [
        "true=['B-PER', 'I-PER', 'O', 'O', 'B-MISC', 'O','O','O','O','O','O','O','O','O','O','B-PER','I-PER','O','O','O','O','O','O','B-MISC','I-MISC','I-MISC','O','O','O','O','O','O','B-PER','I-PER','O','O','O','O','O']\n",
        "# 실제값\n",
        "predicted=['O'] * len(true) \n",
        "print(predicted)"
      ],
      "execution_count": null,
      "outputs": [
        {
          "output_type": "stream",
          "text": [
            "['O', 'O', 'O', 'O', 'O', 'O', 'O', 'O', 'O', 'O', 'O', 'O', 'O', 'O', 'O', 'O', 'O', 'O', 'O', 'O', 'O', 'O', 'O', 'O', 'O', 'O', 'O', 'O', 'O', 'O', 'O', 'O', 'O', 'O', 'O', 'O', 'O', 'O', 'O']\n"
          ],
          "name": "stdout"
        }
      ]
    },
    {
      "cell_type": "code",
      "metadata": {
        "colab": {
          "base_uri": "https://localhost:8080/"
        },
        "id": "lRyLvZypWGdL",
        "outputId": "ec5aa281-d837-46ce-a09a-34db43279e34"
      },
      "source": [
        "hit = 0\n",
        "for t, p in zip(true, predicted):\n",
        "  if t == p:\n",
        "    hit +=1\n",
        "accuracy = hit/len(true)\n",
        "accuracy"
      ],
      "execution_count": null,
      "outputs": [
        {
          "output_type": "execute_result",
          "data": {
            "text/plain": [
              "0.7435897435897436"
            ]
          },
          "metadata": {
            "tags": []
          },
          "execution_count": 39
        }
      ]
    },
    {
      "cell_type": "markdown",
      "metadata": {
        "id": "bSQMjzjxWGfr"
      },
      "source": [
        "***위 결과를 통해 확인할 수 있는 것은 무엇인가! 비록 모델이 정답을 하나도 예측하지 못했으나, 실제 값에서 대부분의 분포가 'O' 즉 Outside 값인 관게로 모델의 정확도가 73%까지 올랐다는 것을 확인할 수 있다.***"
      ]
    },
    {
      "cell_type": "markdown",
      "metadata": {
        "id": "Bmnk8iL9u5SQ"
      },
      "source": [
        "---"
      ]
    },
    {
      "cell_type": "markdown",
      "metadata": {
        "id": "fa9JFEAWuCdX"
      },
      "source": [
        "위와 같은 이유로 우리는 f1-score 확인 이 필수적으로 필요하다.\n",
        "\n",
        "***F1-Score에 대한 정의***\n"
      ]
    },
    {
      "cell_type": "code",
      "metadata": {
        "colab": {
          "resources": {
            "http://localhost:8080/nbextensions/google.colab/files.js": {
              "data": "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",
              "ok": true,
              "headers": [
                [
                  "content-type",
                  "application/javascript"
                ]
              ],
              "status": 200,
              "status_text": ""
            }
          },
          "base_uri": "https://localhost:8080/",
          "height": 94
        },
        "id": "Nh42Qlqputoq",
        "outputId": "dce858c1-16e9-4d24-fc1d-c48f4c202e28"
      },
      "source": [
        "from google.colab import files\n",
        "uploaded = files.upload() \n",
        "\n",
        "for fn in uploaded.keys():\n",
        "    print('User uploaded file \"{name}\" with length {length} bytes'.format(\n",
        "        name=fn, length=len(uploaded[fn])))"
      ],
      "execution_count": null,
      "outputs": [
        {
          "output_type": "display_data",
          "data": {
            "text/html": [
              "\n",
              "     <input type=\"file\" id=\"files-6dbc7001-a667-4a3d-8779-8d8710748f8b\" name=\"files[]\" multiple disabled\n",
              "        style=\"border:none\" />\n",
              "     <output id=\"result-6dbc7001-a667-4a3d-8779-8d8710748f8b\">\n",
              "      Upload widget is only available when the cell has been executed in the\n",
              "      current browser session. Please rerun this cell to enable.\n",
              "      </output>\n",
              "      <script src=\"/nbextensions/google.colab/files.js\"></script> "
            ],
            "text/plain": [
              "<IPython.core.display.HTML object>"
            ]
          },
          "metadata": {
            "tags": []
          }
        },
        {
          "output_type": "stream",
          "text": [
            "Saving Confussion_mt.png to Confussion_mt.png\n",
            "User uploaded file \"Confussion_mt.png\" with length 91715 bytes\n"
          ],
          "name": "stdout"
        }
      ]
    },
    {
      "cell_type": "code",
      "metadata": {
        "colab": {
          "base_uri": "https://localhost:8080/",
          "height": 464
        },
        "id": "ZFHSdtS5vqGJ",
        "outputId": "e9a2d066-6d67-45e8-c403-6f3aed313618"
      },
      "source": [
        "from IPython.display import Image\n",
        "Image('Confussion_mt.png')"
      ],
      "execution_count": null,
      "outputs": [
        {
          "output_type": "execute_result",
          "data": {
            "image/png": "[encoded data removed]",
            "text/plain": [
              "<IPython.core.display.Image object>"
            ]
          },
          "metadata": {
            "tags": []
          },
          "execution_count": 38
        }
      ]
    },
    {
      "cell_type": "markdown",
      "metadata": {
        "id": "7Ff6pnwZu8AP"
      },
      "source": [
        "Confussion Matrix 요소 :\n",
        "\n",
        "    - Tp, Tn : 모델이 예측한 값이 정답인 비율\n",
        "    - Fp : 모델이, 정답을 예측하지 못한 비율.   \n",
        "    - Fn : 모델이, 정답이 아님을 예측하지 못한 비율.\n",
        "\n",
        "  위와 같은 요소를 중심으로,\n",
        "\n",
        "    - 정밀도(Positive predictive value) = 정답이 주어진 경우 정답을 예측한 비율\n",
        "    - 재현률(recall) = 모델이 정답이라고 예측한 값들 중 실제로 정답이 차지하는 비율. \n",
        "\n",
        "위 두 요소 함께 재현하기 위한 Score가 f1 스코어이다.\n",
        "\n",
        "    - 정밀도와 재현률의 합을 분모로, 곱을 분자로 한 비율에 Constant인 1을 Multiplying해준 값을 의미한다."
      ]
    },
    {
      "cell_type": "markdown",
      "metadata": {
        "id": "paxmk9xPu8Z5"
      },
      "source": [
        "---"
      ]
    },
    {
      "cell_type": "code",
      "metadata": {
        "id": "y2tS7-BeWGkP"
      },
      "source": [
        "# !pip install seqeval"
      ],
      "execution_count": 1,
      "outputs": []
    },
    {
      "cell_type": "code",
      "metadata": {
        "colab": {
          "base_uri": "https://localhost:8080/"
        },
        "id": "1Np13Q-LWGmj",
        "outputId": "55da9f6c-ba0b-4767-c374-710da01ff3bd"
      },
      "source": [
        "from seqeval.metrics import classification_report\n",
        "print(classification_report([true], [predicted]))"
      ],
      "execution_count": null,
      "outputs": [
        {
          "output_type": "stream",
          "text": [
            "              precision    recall  f1-score   support\n",
            "\n",
            "        MISC       0.00      0.00      0.00         2\n",
            "         PER       0.00      0.00      0.00         3\n",
            "\n",
            "   micro avg       0.00      0.00      0.00         5\n",
            "   macro avg       0.00      0.00      0.00         5\n",
            "weighted avg       0.00      0.00      0.00         5\n",
            "\n"
          ],
          "name": "stdout"
        },
        {
          "output_type": "stream",
          "text": [
            "/usr/local/lib/python3.7/dist-packages/seqeval/metrics/v1.py:57: UndefinedMetricWarning: Precision and F-score are ill-defined and being set to 0.0 in labels with no predicted samples. Use `zero_division` parameter to control this behavior.\n",
            "  _warn_prf(average, modifier, msg_start, len(result))\n",
            "/usr/local/lib/python3.7/dist-packages/seqeval/metrics/v1.py:57: UndefinedMetricWarning: Precision and F-score are ill-defined and being set to 0.0 due to no predicted samples. Use `zero_division` parameter to control this behavior.\n",
            "  _warn_prf(average, modifier, msg_start, len(result))\n"
          ],
          "name": "stderr"
        }
      ]
    },
    {
      "cell_type": "markdown",
      "metadata": {
        "id": "QpRpjVdw7oKI"
      },
      "source": [
        "---"
      ]
    },
    {
      "cell_type": "code",
      "metadata": {
        "colab": {
          "base_uri": "https://localhost:8080/"
        },
        "id": "qeNHNvcKWGo4",
        "outputId": "aaf27e65-1441-4d27-f686-14f8d5bb253f"
      },
      "source": [
        "from keras.callbacks import Callback\n",
        "from seqeval.metrics import f1_score, classification_report"
      ],
      "execution_count": null,
      "outputs": [
        {
          "output_type": "stream",
          "text": [
            "Using TensorFlow backend.\n"
          ],
          "name": "stderr"
        }
      ]
    },
    {
      "cell_type": "markdown",
      "metadata": {
        "id": "BvrbSrYKWH6o"
      },
      "source": [
        "---"
      ]
    },
    {
      "cell_type": "code",
      "metadata": {
        "colab": {
          "base_uri": "https://localhost:8080/"
        },
        "id": "rPMDKzPMAzw_",
        "outputId": "cefe71c1-6e5d-47ac-888d-4b6cbd8a3a11"
      },
      "source": [
        "class Member:\n",
        "    def __init__(self, name, age, address):\n",
        "        self.name = name\n",
        "        self.age = age\n",
        "        self.address = address\n",
        "\n",
        "    def info(self):\n",
        "      print('저의 이름은 {0}이고, 나이는 {1}, 사는곳은 {2} 입니다'.format(self.name, self.age, self.address))\n",
        "\n",
        "introduce = Member('jh', 30, '서울특별시')\n",
        "introduce.info()"
      ],
      "execution_count": null,
      "outputs": [
        {
          "output_type": "stream",
          "text": [
            "저의 이름은 jh이고, 나이는 30, 사는곳은 서울특별시 입니다\n"
          ],
          "name": "stdout"
        }
      ]
    },
    {
      "cell_type": "code",
      "metadata": {
        "colab": {
          "base_uri": "https://localhost:8080/"
        },
        "id": "uODlMgCuE_w-",
        "outputId": "2fb45161-520f-47b5-8176-88ed73eb715a"
      },
      "source": [
        "class Parent:\n",
        "    def __init__(self, p1, p2):\n",
        "        self.p1 = p1\n",
        "        self.p2 = p2\n",
        "        \n",
        "class Child(Parent):\n",
        "    def __init__(self, c1, **kwargs):\n",
        "        super(Child, self).__init__(**kwargs)\n",
        "        self.c1 = c1\n",
        "        self.c2 = \"This is Child's c2\"\n",
        "        self.c3 = \"This is Child's c3\"\n",
        "\n",
        "child = Child(p1=\"This is Parent's p1\", \n",
        "              p2=\"This is Parent's p1\", \n",
        "              c1=\"This is Child's c1\")\n",
        "\n",
        "print(child.p1)\n",
        "print(child.p2)\n",
        "print(child.c1)\n",
        "print(child.c2)\n",
        "print(child.c3)"
      ],
      "execution_count": null,
      "outputs": [
        {
          "output_type": "stream",
          "text": [
            "This is Parent's p1\n",
            "This is Parent's p1\n",
            "This is Child's c1\n",
            "This is Child's c2\n",
            "This is Child's c3\n"
          ],
          "name": "stdout"
        }
      ]
    },
    {
      "cell_type": "markdown",
      "metadata": {
        "id": "aoMxtnesCWFW"
      },
      "source": [
        "***위는 간단히 Class와 속성, 메소드 간의 관계에 대해 코딩한 것이다***\n",
        "\n",
        "        아래는, class 를 활용하여 f1 스코어 호추에 대한 class를 만들고자 한다."
      ]
    },
    {
      "cell_type": "markdown",
      "metadata": {
        "id": "-jdmWfdlAz5R"
      },
      "source": [
        "---"
      ]
    },
    {
      "cell_type": "code",
      "metadata": {
        "id": "TTbS_7QlCnDa"
      },
      "source": [
        "# from keras.callbacks import Callback\n",
        "# 위에서 keras model에 적제되어 있는 Callback 이라는 부모 클래스를 F1score 를 자식 클레스로 하여금 사용하고자 한다.\n",
        "\n",
        "class F1score(Callback):\n",
        "    def __init__(self, value = 0.0, use_char=True):\n",
        "        super(F1score, self).__init__()\n",
        "        self.value = value\n",
        "        self.use_char = use_char\n",
        "\n",
        "    def sequences_to_tags(self, sequences): \n",
        "      result = []\n",
        "      for sequence in sequences: \n",
        "          tag = []\n",
        "          for pred in sequence: \n",
        "              pred_index = np.argmax(pred) \n",
        "              tag.append(index_to_ner[pred_index].replace(\"PAD\", \"O\"))\n",
        "          result.append(tag)\n",
        "      return result\n",
        "\n",
        "    def on_epoch_end(self, epoch, logs={}):\n",
        "\n",
        "      if self.use_char:\n",
        "        X_test = self.validation_data[0]\n",
        "        X_char_test = self.validation_data[1]\n",
        "        y_test = self.validation_data[2]\n",
        "        y_predicted = self.model.predict([X_test, X_char_test])\n",
        "\n",
        "      else:\n",
        "        X_test = self.validation_data[0]\n",
        "        y_test = self.validation_data[1]\n",
        "        y_predicted = self.model.predict([X_test])\n",
        "\n",
        "      pred_tags = self.sequences_to_tags(y_predicted)\n",
        "      test_tags = self.sequences_to_tags(y_test)\n",
        "\n",
        "      score = f1_score(pred_tags, test_tags)\n",
        "      print(' - f1: {:04.2f}'.format(score * 100))\n",
        "      print(classification_report(test_tags, pred_tags))\n",
        "\n",
        "      if score > self.value:\n",
        "        print('f1_score improved from %f to %f, saving model to best_model.h5'%(self.value, score))\n",
        "        self.model.save('best_model.h5')\n",
        "        self.value = score\n",
        "      else:\n",
        "        print('f1_score did not improve from %f'%(self.value))"
      ],
      "execution_count": null,
      "outputs": []
    },
    {
      "cell_type": "code",
      "metadata": {
        "id": "sqjeeLM9WIAB"
      },
      "source": [
        "from keras.models import Sequential\n",
        "from keras.layers import Dense, LSTM, InputLayer, Bidirectional, TimeDistributed, Embedding\n",
        "from keras.optimizers import Adam\n",
        "from keras.models import load_model"
      ],
      "execution_count": null,
      "outputs": []
    },
    {
      "cell_type": "code",
      "metadata": {
        "id": "cj4ykjg9WICV"
      },
      "source": [
        "model = Sequential()\n",
        "model.add(Embedding(vocab_size, 128, input_length=max_len, mask_zero=True))\n",
        "model.add(Bidirectional(LSTM(256, return_sequences=True)))\n",
        "model.add(TimeDistributed(Dense(tag_size, activation=('softmax'))))\n",
        "model.compile(loss='categorical_crossentropy', optimizer=Adam(0.001), metrics=['accuracy'])"
      ],
      "execution_count": null,
      "outputs": []
    },
    {
      "cell_type": "code",
      "metadata": {
        "colab": {
          "base_uri": "https://localhost:8080/"
        },
        "id": "Ji_AwFysUzW_",
        "outputId": "7c403144-2542-4fcb-bc76-718c416afb1d"
      },
      "source": [
        "history = model.fit(X_train, y_train, batch_size=32, epochs=10,  validation_split=0.1, callbacks=[F1score(use_char=False)])"
      ],
      "execution_count": null,
      "outputs": [
        {
          "output_type": "stream",
          "text": [
            "Train on 34530 samples, validate on 3837 samples\n",
            "Epoch 1/10\n",
            "34530/34530 [==============================] - 406s 12ms/step - loss: 0.3092 - acc: 0.9218 - val_loss: 0.1518 - val_acc: 0.9540\n",
            " - f1: 73.23\n"
          ],
          "name": "stdout"
        },
        {
          "output_type": "stream",
          "text": [
            "/usr/local/lib/python3.7/dist-packages/seqeval/metrics/v1.py:57: UndefinedMetricWarning: Precision and F-score are ill-defined and being set to 0.0 in labels with no predicted samples. Use `zero_division` parameter to control this behavior.\n",
            "  _warn_prf(average, modifier, msg_start, len(result))\n"
          ],
          "name": "stderr"
        },
        {
          "output_type": "stream",
          "text": [
            "              precision    recall  f1-score   support\n",
            "\n",
            "         art       0.00      0.00      0.00        37\n",
            "         eve       0.00      0.00      0.00        30\n",
            "         geo       0.72      0.84      0.77      3087\n",
            "         gpe       0.92      0.94      0.93      1146\n",
            "         nat       0.00      0.00      0.00        16\n",
            "         org       0.55      0.51      0.53      1691\n",
            "         per       0.60      0.67      0.63      1310\n",
            "         tim       0.80      0.83      0.81      1672\n",
            "\n",
            "   micro avg       0.71      0.75      0.73      8989\n",
            "   macro avg       0.45      0.47      0.46      8989\n",
            "weighted avg       0.70      0.75      0.73      8989\n",
            "\n",
            "f1_score improved from 0.000000 to 0.732295, saving model to best_model.h5\n",
            "Epoch 2/10\n",
            "34530/34530 [==============================] - 405s 12ms/step - loss: 0.1199 - acc: 0.9636 - val_loss: 0.1383 - val_acc: 0.9577\n",
            " - f1: 66.93\n",
            "              precision    recall  f1-score   support\n",
            "\n",
            "         art       0.00      0.00      0.00        37\n",
            "         eve       0.58      0.23      0.33        30\n",
            "         geo       0.79      0.85      0.82      3087\n",
            "         gpe       0.89      0.95      0.92      1146\n",
            "         nat       0.33      0.06      0.11        16\n",
            "         org       0.56      0.58      0.57      1691\n",
            "         per       0.68      0.69      0.69      1310\n",
            "         tim       0.32      0.86      0.47      1672\n",
            "\n",
            "   micro avg       0.58      0.79      0.67      8989\n",
            "   macro avg       0.52      0.53      0.49      8989\n",
            "weighted avg       0.65      0.79      0.70      8989\n",
            "\n",
            "f1_score did not improve from 0.732295\n",
            "Epoch 3/10\n",
            "34530/34530 [==============================] - 403s 12ms/step - loss: 0.0906 - acc: 0.9715 - val_loss: 0.1354 - val_acc: 0.9593\n",
            " - f1: 65.89\n",
            "              precision    recall  f1-score   support\n",
            "\n",
            "         art       0.60      0.08      0.14        37\n",
            "         eve       0.46      0.20      0.28        30\n",
            "         geo       0.82      0.83      0.82      3087\n",
            "         gpe       0.94      0.95      0.94      1146\n",
            "         nat       0.50      0.44      0.47        16\n",
            "         org       0.60      0.58      0.59      1691\n",
            "         per       0.65      0.72      0.68      1310\n",
            "         tim       0.29      0.83      0.43      1672\n",
            "\n",
            "   micro avg       0.57      0.78      0.66      8989\n",
            "   macro avg       0.61      0.58      0.55      8989\n",
            "weighted avg       0.67      0.78      0.70      8989\n",
            "\n",
            "f1_score did not improve from 0.732295\n",
            "Epoch 4/10\n",
            "34530/34530 [==============================] - 404s 12ms/step - loss: 0.0749 - acc: 0.9757 - val_loss: 0.1340 - val_acc: 0.9605\n",
            " - f1: 68.39\n",
            "              precision    recall  f1-score   support\n",
            "\n",
            "         art       0.25      0.03      0.05        37\n",
            "         eve       0.47      0.23      0.31        30\n",
            "         geo       0.82      0.86      0.84      3087\n",
            "         gpe       0.94      0.95      0.95      1146\n",
            "         nat       0.75      0.38      0.50        16\n",
            "         org       0.60      0.57      0.59      1691\n",
            "         per       0.70      0.69      0.69      1310\n",
            "         tim       0.33      0.84      0.48      1672\n",
            "\n",
            "   micro avg       0.61      0.78      0.68      8989\n",
            "   macro avg       0.61      0.57      0.55      8989\n",
            "weighted avg       0.68      0.78      0.71      8989\n",
            "\n",
            "f1_score did not improve from 0.732295\n",
            "Epoch 5/10\n",
            "34530/34530 [==============================] - 413s 12ms/step - loss: 0.0624 - acc: 0.9797 - val_loss: 0.1458 - val_acc: 0.9588\n",
            " - f1: 67.02\n",
            "              precision    recall  f1-score   support\n",
            "\n",
            "         art       0.38      0.16      0.23        37\n",
            "         eve       0.47      0.23      0.31        30\n",
            "         geo       0.83      0.82      0.82      3087\n",
            "         gpe       0.94      0.95      0.94      1146\n",
            "         nat       0.55      0.38      0.44        16\n",
            "         org       0.54      0.59      0.57      1691\n",
            "         per       0.68      0.69      0.68      1310\n",
            "         tim       0.33      0.83      0.47      1672\n",
            "\n",
            "   micro avg       0.59      0.77      0.67      8989\n",
            "   macro avg       0.59      0.58      0.56      8989\n",
            "weighted avg       0.67      0.77      0.70      8989\n",
            "\n",
            "f1_score did not improve from 0.732295\n",
            "Epoch 6/10\n",
            "34530/34530 [==============================] - 414s 12ms/step - loss: 0.0514 - acc: 0.9830 - val_loss: 0.1570 - val_acc: 0.9584\n",
            " - f1: 63.84\n",
            "              precision    recall  f1-score   support\n",
            "\n",
            "         art       0.28      0.14      0.18        37\n",
            "         eve       0.19      0.20      0.19        30\n",
            "         geo       0.83      0.83      0.83      3087\n",
            "         gpe       0.93      0.95      0.94      1146\n",
            "         nat       0.62      0.31      0.42        16\n",
            "         org       0.57      0.57      0.57      1691\n",
            "         per       0.66      0.70      0.68      1310\n",
            "         tim       0.26      0.83      0.39      1672\n",
            "\n",
            "   micro avg       0.54      0.77      0.64      8989\n",
            "   macro avg       0.54      0.57      0.53      8989\n",
            "weighted avg       0.66      0.77      0.69      8989\n",
            "\n",
            "f1_score did not improve from 0.732295\n",
            "Epoch 7/10\n",
            "34530/34530 [==============================] - 412s 12ms/step - loss: 0.0418 - acc: 0.9862 - val_loss: 0.1695 - val_acc: 0.9582\n",
            " - f1: 63.98\n",
            "              precision    recall  f1-score   support\n",
            "\n",
            "         art       0.35      0.19      0.25        37\n",
            "         eve       0.22      0.17      0.19        30\n",
            "         geo       0.81      0.84      0.82      3087\n",
            "         gpe       0.94      0.95      0.94      1146\n",
            "         nat       0.60      0.38      0.46        16\n",
            "         org       0.59      0.54      0.57      1691\n",
            "         per       0.65      0.70      0.67      1310\n",
            "         tim       0.27      0.85      0.40      1672\n",
            "\n",
            "   micro avg       0.55      0.77      0.64      8989\n",
            "   macro avg       0.55      0.58      0.54      8989\n",
            "weighted avg       0.66      0.77      0.68      8989\n",
            "\n",
            "f1_score did not improve from 0.732295\n",
            "Epoch 8/10\n",
            "34530/34530 [==============================] - 408s 12ms/step - loss: 0.0334 - acc: 0.9890 - val_loss: 0.1838 - val_acc: 0.9558\n",
            " - f1: 66.66\n",
            "              precision    recall  f1-score   support\n",
            "\n",
            "         art       0.19      0.16      0.17        37\n",
            "         eve       0.19      0.17      0.18        30\n",
            "         geo       0.79      0.83      0.81      3087\n",
            "         gpe       0.95      0.93      0.94      1146\n",
            "         nat       0.55      0.38      0.44        16\n",
            "         org       0.54      0.59      0.56      1691\n",
            "         per       0.64      0.70      0.67      1310\n",
            "         tim       0.33      0.83      0.48      1672\n",
            "\n",
            "   micro avg       0.59      0.77      0.67      8989\n",
            "   macro avg       0.52      0.57      0.53      8989\n",
            "weighted avg       0.65      0.77      0.69      8989\n",
            "\n",
            "f1_score did not improve from 0.732295\n",
            "Epoch 9/10\n",
            "34530/34530 [==============================] - 415s 12ms/step - loss: 0.0260 - acc: 0.9916 - val_loss: 0.1981 - val_acc: 0.9560\n",
            " - f1: 65.36\n",
            "              precision    recall  f1-score   support\n",
            "\n",
            "         art       0.06      0.14      0.09        37\n",
            "         eve       0.21      0.17      0.19        30\n",
            "         geo       0.79      0.83      0.81      3087\n",
            "         gpe       0.93      0.95      0.94      1146\n",
            "         nat       0.86      0.38      0.52        16\n",
            "         org       0.55      0.57      0.56      1691\n",
            "         per       0.67      0.68      0.68      1310\n",
            "         tim       0.30      0.83      0.45      1672\n",
            "\n",
            "   micro avg       0.57      0.77      0.65      8989\n",
            "   macro avg       0.55      0.57      0.53      8989\n",
            "weighted avg       0.65      0.77      0.69      8989\n",
            "\n",
            "f1_score did not improve from 0.732295\n",
            "Epoch 10/10\n",
            "34530/34530 [==============================] - 414s 12ms/step - loss: 0.0210 - acc: 0.9932 - val_loss: 0.2191 - val_acc: 0.9547\n",
            " - f1: 60.55\n",
            "              precision    recall  f1-score   support\n",
            "\n",
            "         art       0.04      0.14      0.06        37\n",
            "         eve       0.18      0.20      0.19        30\n",
            "         geo       0.73      0.82      0.77      3087\n",
            "         gpe       0.93      0.95      0.94      1146\n",
            "         nat       0.56      0.31      0.40        16\n",
            "         org       0.50      0.58      0.54      1691\n",
            "         per       0.65      0.68      0.66      1310\n",
            "         tim       0.25      0.84      0.38      1672\n",
            "\n",
            "   micro avg       0.50      0.77      0.61      8989\n",
            "   macro avg       0.48      0.56      0.49      8989\n",
            "weighted avg       0.61      0.77      0.66      8989\n",
            "\n",
            "f1_score did not improve from 0.732295\n"
          ],
          "name": "stdout"
        }
      ]
    },
    {
      "cell_type": "code",
      "metadata": {
        "id": "ZaPDSz4kUzZI"
      },
      "source": [
        "bilstm_model = load_model('best_model.h5')"
      ],
      "execution_count": null,
      "outputs": []
    },
    {
      "cell_type": "code",
      "metadata": {
        "id": "awpfEzsPUzbg",
        "colab": {
          "base_uri": "https://localhost:8080/"
        },
        "outputId": "49826511-b4bd-44a7-e341-5f9c790c7974"
      },
      "source": [
        "i=13 \n",
        "y_predicted = bilstm_model.predict(np.array([X_test[i]])) \n",
        "y_predicted = np.argmax(y_predicted, axis=-1) \n",
        "true = np.argmax(y_test[i], -1) \n",
        "print(\"{:15}|{:5}|{}\".format(\"단어\", \"실제값\", \"예측값\"))\n",
        "print(35 * \"-\")\n",
        "\n",
        "for w, t, pred in zip(X_test[i], true, y_predicted[0]):\n",
        "    if w != 0: \n",
        "        print(\"{:17}: {:7} {}\".format(index_to_word[w], index_to_ner[t], index_to_ner[pred]))"
      ],
      "execution_count": null,
      "outputs": [
        {
          "output_type": "stream",
          "text": [
            "단어             |실제값  |예측값\n",
            "-----------------------------------\n",
            "the              : O       O\n",
            "statement        : O       O\n",
            "came             : O       O\n",
            "as               : O       O\n",
            "u.n.             : B-org   B-org\n",
            "secretary-general: I-org   I-org\n",
            "kofi             : B-per   B-per\n",
            "annan            : I-per   I-per\n",
            "met              : O       O\n",
            "with             : O       O\n",
            "officials        : O       O\n",
            "in               : O       O\n",
            "amman            : B-geo   B-geo\n",
            "to               : O       O\n",
            "discuss          : O       O\n",
            "wednesday        : B-tim   B-tim\n",
            "'s               : O       O\n",
            "attacks          : O       O\n",
            ".                : O       O\n"
          ],
          "name": "stdout"
        }
      ]
    }
  ]
}